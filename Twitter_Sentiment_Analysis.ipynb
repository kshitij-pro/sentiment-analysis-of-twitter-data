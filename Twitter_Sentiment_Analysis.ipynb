{
  "nbformat": 4,
  "nbformat_minor": 0,
  "metadata": {
    "kernelspec": {
      "display_name": "Python 3",
      "language": "python",
      "name": "python3"
    },
    "language_info": {
      "codemirror_mode": {
        "name": "ipython",
        "version": 3
      },
      "file_extension": ".py",
      "mimetype": "text/x-python",
      "name": "python",
      "nbconvert_exporter": "python",
      "pygments_lexer": "ipython3",
      "version": "3.6.5"
    },
    "colab": {
      "name": "Twitter Sentiment Analysis.ipynb",
      "provenance": []
    }
  },
  "cells": [
    {
      "cell_type": "markdown",
      "metadata": {
        "id": "3OycaKSzZ0rB"
      },
      "source": [
        "# 1. Importing and Discovering the Dataset <a class=\"anchor\" id=\"head-1\"></a>"
      ]
    },
    {
      "cell_type": "code",
      "metadata": {
        "id": "YT8u0W-tZ0rB"
      },
      "source": [
        "from time import time\n",
        "import random\n",
        "import numpy as np\n",
        "\n",
        "import pandas as pd\n",
        "import matplotlib.pyplot as plt"
      ],
      "execution_count": null,
      "outputs": []
    },
    {
      "cell_type": "code",
      "metadata": {
        "id": "raOmxLtlZ0rC",
        "outputId": "2190e34a-5a3d-4402-ac60-8b7cd179c3c1"
      },
      "source": [
        "# Reading the dataset with no columns titles and with latin encoding \n",
        "df_raw = pd.read_csv('datasets/sentiment140.csv', encoding = \"ISO-8859-1\", header=None)\n",
        "\n",
        " # As the data has no column titles, we will add our own\n",
        "df_raw.columns = [\"label\", \"time\", \"date\", \"query\", \"username\", \"text\"]\n",
        "\n",
        "# Show the first 5 rows of the dataframe.\n",
        "# You can specify the number of rows to be shown as follows: df_raw.head(10)\n",
        "df_raw.head()"
      ],
      "execution_count": null,
      "outputs": [
        {
          "output_type": "execute_result",
          "data": {
            "text/html": [
              "<div>\n",
              "<style scoped>\n",
              "    .dataframe tbody tr th:only-of-type {\n",
              "        vertical-align: middle;\n",
              "    }\n",
              "\n",
              "    .dataframe tbody tr th {\n",
              "        vertical-align: top;\n",
              "    }\n",
              "\n",
              "    .dataframe thead th {\n",
              "        text-align: right;\n",
              "    }\n",
              "</style>\n",
              "<table border=\"1\" class=\"dataframe\">\n",
              "  <thead>\n",
              "    <tr style=\"text-align: right;\">\n",
              "      <th></th>\n",
              "      <th>label</th>\n",
              "      <th>time</th>\n",
              "      <th>date</th>\n",
              "      <th>query</th>\n",
              "      <th>username</th>\n",
              "      <th>text</th>\n",
              "    </tr>\n",
              "  </thead>\n",
              "  <tbody>\n",
              "    <tr>\n",
              "      <th>0</th>\n",
              "      <td>0</td>\n",
              "      <td>1467810369</td>\n",
              "      <td>Mon Apr 06 22:19:45 PDT 2009</td>\n",
              "      <td>NO_QUERY</td>\n",
              "      <td>_TheSpecialOne_</td>\n",
              "      <td>@switchfoot http://twitpic.com/2y1zl - Awww, t...</td>\n",
              "    </tr>\n",
              "    <tr>\n",
              "      <th>1</th>\n",
              "      <td>0</td>\n",
              "      <td>1467810672</td>\n",
              "      <td>Mon Apr 06 22:19:49 PDT 2009</td>\n",
              "      <td>NO_QUERY</td>\n",
              "      <td>scotthamilton</td>\n",
              "      <td>is upset that he can't update his Facebook by ...</td>\n",
              "    </tr>\n",
              "    <tr>\n",
              "      <th>2</th>\n",
              "      <td>0</td>\n",
              "      <td>1467810917</td>\n",
              "      <td>Mon Apr 06 22:19:53 PDT 2009</td>\n",
              "      <td>NO_QUERY</td>\n",
              "      <td>mattycus</td>\n",
              "      <td>@Kenichan I dived many times for the ball. Man...</td>\n",
              "    </tr>\n",
              "    <tr>\n",
              "      <th>3</th>\n",
              "      <td>0</td>\n",
              "      <td>1467811184</td>\n",
              "      <td>Mon Apr 06 22:19:57 PDT 2009</td>\n",
              "      <td>NO_QUERY</td>\n",
              "      <td>ElleCTF</td>\n",
              "      <td>my whole body feels itchy and like its on fire</td>\n",
              "    </tr>\n",
              "    <tr>\n",
              "      <th>4</th>\n",
              "      <td>0</td>\n",
              "      <td>1467811193</td>\n",
              "      <td>Mon Apr 06 22:19:57 PDT 2009</td>\n",
              "      <td>NO_QUERY</td>\n",
              "      <td>Karoli</td>\n",
              "      <td>@nationwideclass no, it's not behaving at all....</td>\n",
              "    </tr>\n",
              "  </tbody>\n",
              "</table>\n",
              "</div>"
            ],
            "text/plain": [
              "   label        time                          date     query         username  \\\n",
              "0      0  1467810369  Mon Apr 06 22:19:45 PDT 2009  NO_QUERY  _TheSpecialOne_   \n",
              "1      0  1467810672  Mon Apr 06 22:19:49 PDT 2009  NO_QUERY    scotthamilton   \n",
              "2      0  1467810917  Mon Apr 06 22:19:53 PDT 2009  NO_QUERY         mattycus   \n",
              "3      0  1467811184  Mon Apr 06 22:19:57 PDT 2009  NO_QUERY          ElleCTF   \n",
              "4      0  1467811193  Mon Apr 06 22:19:57 PDT 2009  NO_QUERY           Karoli   \n",
              "\n",
              "                                                text  \n",
              "0  @switchfoot http://twitpic.com/2y1zl - Awww, t...  \n",
              "1  is upset that he can't update his Facebook by ...  \n",
              "2  @Kenichan I dived many times for the ball. Man...  \n",
              "3    my whole body feels itchy and like its on fire   \n",
              "4  @nationwideclass no, it's not behaving at all....  "
            ]
          },
          "metadata": {
            "tags": []
          },
          "execution_count": 2
        }
      ]
    },
    {
      "cell_type": "code",
      "metadata": {
        "id": "1ysTCR0OZ0rD",
        "outputId": "762228eb-946c-415d-8805-f6d251ab7a99"
      },
      "source": [
        "# Checking the data's output balance\n",
        "# The label '4' denotes positive sentiment and '0' denotes negative sentiment\n",
        "df_raw['label'].value_counts()"
      ],
      "execution_count": null,
      "outputs": [
        {
          "output_type": "execute_result",
          "data": {
            "text/plain": [
              "4    800000\n",
              "0    800000\n",
              "Name: label, dtype: int64"
            ]
          },
          "metadata": {
            "tags": []
          },
          "execution_count": 3
        }
      ]
    },
    {
      "cell_type": "code",
      "metadata": {
        "id": "gEf85tH6Z0rD",
        "outputId": "b3fc287f-a385-49ef-a800-b2eb3b5194ae"
      },
      "source": [
        "# Ommiting every column except for the text and the label, as we won't need any of the other information\n",
        "df = df_raw[['label', 'text']]\n",
        "df.head()"
      ],
      "execution_count": null,
      "outputs": [
        {
          "output_type": "execute_result",
          "data": {
            "text/html": [
              "<div>\n",
              "<style scoped>\n",
              "    .dataframe tbody tr th:only-of-type {\n",
              "        vertical-align: middle;\n",
              "    }\n",
              "\n",
              "    .dataframe tbody tr th {\n",
              "        vertical-align: top;\n",
              "    }\n",
              "\n",
              "    .dataframe thead th {\n",
              "        text-align: right;\n",
              "    }\n",
              "</style>\n",
              "<table border=\"1\" class=\"dataframe\">\n",
              "  <thead>\n",
              "    <tr style=\"text-align: right;\">\n",
              "      <th></th>\n",
              "      <th>label</th>\n",
              "      <th>text</th>\n",
              "    </tr>\n",
              "  </thead>\n",
              "  <tbody>\n",
              "    <tr>\n",
              "      <th>0</th>\n",
              "      <td>0</td>\n",
              "      <td>@switchfoot http://twitpic.com/2y1zl - Awww, t...</td>\n",
              "    </tr>\n",
              "    <tr>\n",
              "      <th>1</th>\n",
              "      <td>0</td>\n",
              "      <td>is upset that he can't update his Facebook by ...</td>\n",
              "    </tr>\n",
              "    <tr>\n",
              "      <th>2</th>\n",
              "      <td>0</td>\n",
              "      <td>@Kenichan I dived many times for the ball. Man...</td>\n",
              "    </tr>\n",
              "    <tr>\n",
              "      <th>3</th>\n",
              "      <td>0</td>\n",
              "      <td>my whole body feels itchy and like its on fire</td>\n",
              "    </tr>\n",
              "    <tr>\n",
              "      <th>4</th>\n",
              "      <td>0</td>\n",
              "      <td>@nationwideclass no, it's not behaving at all....</td>\n",
              "    </tr>\n",
              "  </tbody>\n",
              "</table>\n",
              "</div>"
            ],
            "text/plain": [
              "   label                                               text\n",
              "0      0  @switchfoot http://twitpic.com/2y1zl - Awww, t...\n",
              "1      0  is upset that he can't update his Facebook by ...\n",
              "2      0  @Kenichan I dived many times for the ball. Man...\n",
              "3      0    my whole body feels itchy and like its on fire \n",
              "4      0  @nationwideclass no, it's not behaving at all...."
            ]
          },
          "metadata": {
            "tags": []
          },
          "execution_count": 4
        }
      ]
    },
    {
      "cell_type": "code",
      "metadata": {
        "id": "3qTFn-SvZ0rE",
        "outputId": "1ed0bc68-846e-45ed-8b7f-f9cf17ebef88"
      },
      "source": [
        "# Seperating positive and negative rows\n",
        "df_pos = df[df['label'] == 4]\n",
        "df_neg = df[df['label'] == 0]\n",
        "print(len(df_pos), len(df_neg))"
      ],
      "execution_count": null,
      "outputs": [
        {
          "output_type": "stream",
          "text": [
            "800000 800000\n"
          ],
          "name": "stdout"
        }
      ]
    },
    {
      "cell_type": "code",
      "metadata": {
        "id": "j2yPLBujZ0rE",
        "outputId": "1eedeebc-5dc8-453c-e13f-274d6190456f"
      },
      "source": [
        "# Only retaining 1/4th of our data from each output group\n",
        "# Feel free to alter the dividing factor depending on your workspace\n",
        "# 1/64 is a good place to start if you're unsure about your machine's power\n",
        "df_pos = df_pos.iloc[:int(len(df_pos)/4)]\n",
        "df_neg = df_neg.iloc[:int(len(df_neg)/4)]\n",
        "print(len(df_pos), len(df_neg))"
      ],
      "execution_count": null,
      "outputs": [
        {
          "output_type": "stream",
          "text": [
            "200000 200000\n"
          ],
          "name": "stdout"
        }
      ]
    },
    {
      "cell_type": "code",
      "metadata": {
        "id": "VsGeZYs3Z0rF",
        "outputId": "b211261e-7274-4ddd-c907-1c0c604b0c05"
      },
      "source": [
        "# Concatinating both positive and negative groups and storing them back into a single dataframe\n",
        "df = pd.concat([df_pos, df_neg])\n",
        "len(df)"
      ],
      "execution_count": null,
      "outputs": [
        {
          "output_type": "execute_result",
          "data": {
            "text/plain": [
              "400000"
            ]
          },
          "metadata": {
            "tags": []
          },
          "execution_count": 7
        }
      ]
    },
    {
      "cell_type": "markdown",
      "metadata": {
        "id": "SIQ-NyUPZ0rF"
      },
      "source": [
        "# 2. Cleaning and Processing the Data <a class=\"anchor\" id=\"head-2\"></a>"
      ]
    },
    {
      "cell_type": "markdown",
      "metadata": {
        "id": "QP72m7lmZ0rF"
      },
      "source": [
        "## 2.1. Tokenization <a class=\"anchor\" id=\"head-2-1\"></a>"
      ]
    },
    {
      "cell_type": "markdown",
      "metadata": {
        "id": "9RLVmrKXZ0rF"
      },
      "source": [
        "In order to feed our text data to a classification model, we first need to *tokenize* it.  \n",
        "**Tokenization** is the process of splitting up a single string of text into a list of individual words, or *tokens*.\n",
        "<br>\n",
        "\n",
        "Python has a built in string method: *string.split()*, that splits up any given string into a list based on a splitting character (if not specified, will default to *white space*).\n",
        "<br>\n",
        "\n",
        "In this example, we will use the **TweetTokenizer**; a Twitter-aware tokenizer provided by the *nltk* library. In addition to a standard tokenizer, this tokenizer will split the input text based on various criterions that are well suited for the tweets use case.\n",
        "\n",
        "More info can be found at: https://www.nltk.org/api/nltk.tokenize.html#module-nltk.tokenize.casual."
      ]
    },
    {
      "cell_type": "code",
      "metadata": {
        "id": "pGdd_pGsZ0rG",
        "outputId": "d3ef64a5-95b4-4d3d-c6e9-7651d512a961"
      },
      "source": [
        "start_time = time()\n",
        "\n",
        "from nltk.tokenize import TweetTokenizer\n",
        "# The reduce_len parameter will allow a maximum of 3 consecutive repeating characters, while trimming the rest\n",
        "# For example, it will tranform the word: 'Helloooooooooo' to: 'Hellooo'\n",
        "tk = TweetTokenizer(reduce_len=True)\n",
        "\n",
        "data = []\n",
        "\n",
        "# Separating our features (text) and our labels into two lists to smoothen our work\n",
        "X = df['text'].tolist()\n",
        "Y = df['label'].tolist()\n",
        "\n",
        "# Building our data list, that is a list of tuples, where each tuple is a pair of the tokenized text\n",
        "# and its corresponding label\n",
        "for x, y in zip(X, Y):\n",
        "    if y == 4:\n",
        "        data.append((tk.tokenize(x), 1))\n",
        "    else:\n",
        "        data.append((tk.tokenize(x), 0))\n",
        "        \n",
        "# Printing the CPU time and the first 5 elements of our 'data' list\n",
        "print('CPU Time:', time() - start_time)\n",
        "data[:5]"
      ],
      "execution_count": null,
      "outputs": [
        {
          "output_type": "stream",
          "text": [
            "CPU Time: 28.13235878944397\n"
          ],
          "name": "stdout"
        },
        {
          "output_type": "execute_result",
          "data": {
            "text/plain": [
              "[(['I', 'LOVE', '@Health4UandPets', 'u', 'guys', 'r', 'the', 'best', '!', '!'],\n",
              "  1),\n",
              " (['im',\n",
              "   'meeting',\n",
              "   'up',\n",
              "   'with',\n",
              "   'one',\n",
              "   'of',\n",
              "   'my',\n",
              "   'besties',\n",
              "   'tonight',\n",
              "   '!',\n",
              "   'Cant',\n",
              "   'wait',\n",
              "   '!',\n",
              "   '!',\n",
              "   '-',\n",
              "   'GIRL',\n",
              "   'TALK',\n",
              "   '!',\n",
              "   '!'],\n",
              "  1),\n",
              " (['@DaRealSunisaKim',\n",
              "   'Thanks',\n",
              "   'for',\n",
              "   'the',\n",
              "   'Twitter',\n",
              "   'add',\n",
              "   ',',\n",
              "   'Sunisa',\n",
              "   '!',\n",
              "   'I',\n",
              "   'got',\n",
              "   'to',\n",
              "   'meet',\n",
              "   'you',\n",
              "   'once',\n",
              "   'at',\n",
              "   'a',\n",
              "   'HIN',\n",
              "   'show',\n",
              "   'here',\n",
              "   'in',\n",
              "   'the',\n",
              "   'DC',\n",
              "   'area',\n",
              "   'and',\n",
              "   'you',\n",
              "   'were',\n",
              "   'a',\n",
              "   'sweetheart',\n",
              "   '.'],\n",
              "  1),\n",
              " (['Being',\n",
              "   'sick',\n",
              "   'can',\n",
              "   'be',\n",
              "   'really',\n",
              "   'cheap',\n",
              "   'when',\n",
              "   'it',\n",
              "   'hurts',\n",
              "   'too',\n",
              "   'much',\n",
              "   'to',\n",
              "   'eat',\n",
              "   'real',\n",
              "   'food',\n",
              "   'Plus',\n",
              "   ',',\n",
              "   'your',\n",
              "   'friends',\n",
              "   'make',\n",
              "   'you',\n",
              "   'soup'],\n",
              "  1),\n",
              " (['@LovesBrooklyn2', 'he', 'has', 'that', 'effect', 'on', 'everyone'], 1)]"
            ]
          },
          "metadata": {
            "tags": []
          },
          "execution_count": 8
        }
      ]
    },
    {
      "cell_type": "markdown",
      "metadata": {
        "id": "F8wh8LvFZ0rG"
      },
      "source": [
        "## 2.2. Lemmatization <a class=\"anchor\" id=\"head-2-2\"></a>"
      ]
    },
    {
      "cell_type": "markdown",
      "metadata": {
        "id": "WVyJMmLAZ0rG"
      },
      "source": [
        "According to the Cambridge English Dictionary, **Lemmatization** is the process of reducing the different forms of a word to one single form, for example, reducing \"builds\", \"building\", or \"built\" to the lemma \"build\". This will greatly help our classifier by treating all variants of a given word as being references to the original lemma word. For example, it will avoid interpreting \"running\" and \"run\" as completely different inputs.\n",
        "<br>\n",
        "\n",
        "In this example, we will use *nltk*'s **WordNetLemmatizer** to accomplish this task. This lemmatizer however takes as input two arguments: a list of tokens to be lemmatized as well as their corresponding *part of speech*. The most common parts of speech in english are nouns and verbs. In order to extract each token's part of speech, we will utilize *nltk*'s *post_tag* function, that takes an input a list of tokens, and returns a list of tuples, where each tuple is composed of a token and its corresponding position tag. Various position tags can be outputted from the pos_tag function, however the most notable ones are:\n",
        "* **NNP**: Noun, proper, singular\n",
        "* **NN**: Noun, common, singular or mass.\n",
        "* **VBG**: Verb, gerund or present participle.\n",
        "* **VBN**: Verb, past participle.\n",
        "\n",
        "A full list of position tags can be found at: https://www.ling.upenn.edu/courses/Fall_2003/ling001/penn_treebank_pos.html"
      ]
    },
    {
      "cell_type": "code",
      "metadata": {
        "id": "PoTqUtt5Z0rG",
        "outputId": "193a22f9-229a-443a-d412-0e00c1812e2c"
      },
      "source": [
        "from nltk.tag import pos_tag\n",
        "from nltk.stem.wordnet import WordNetLemmatizer\n",
        "\n",
        "# Previewing the pos_tag() output\n",
        "print(pos_tag(data[0][0]))"
      ],
      "execution_count": null,
      "outputs": [
        {
          "output_type": "stream",
          "text": [
            "[('I', 'PRP'), ('LOVE', 'VBP'), ('@Health4UandPets', 'NNS'), ('u', 'JJ'), ('guys', 'NNS'), ('r', 'VBP'), ('the', 'DT'), ('best', 'JJS'), ('!', '.'), ('!', '.')]\n"
          ],
          "name": "stdout"
        }
      ]
    },
    {
      "cell_type": "code",
      "metadata": {
        "id": "TD-YXVqaZ0rH",
        "outputId": "9d476d09-640a-41e8-bf3d-8735fe32f3f9"
      },
      "source": [
        "def lemmatize_sentence(tokens):\n",
        "    lemmatizer = WordNetLemmatizer()\n",
        "    lemmatized_sentence = []\n",
        "    for word, tag in pos_tag(tokens):\n",
        "        # First, we will convert the pos_tag output tags to a tag format that the WordNetLemmatizer can interpret\n",
        "        # In general, if a tag starts with NN, the word is a noun and if it stars with VB, the word is a verb.\n",
        "        if tag.startswith('NN'):\n",
        "            pos = 'n'\n",
        "        elif tag.startswith('VB'):\n",
        "            pos = 'v'\n",
        "        else:\n",
        "            pos = 'a'\n",
        "        lemmatized_sentence.append(lemmatizer.lemmatize(word, pos))\n",
        "    return lemmatized_sentence\n",
        "\n",
        "# Previewing the WordNetLemmatizer() output\n",
        "print(lemmatize_sentence(data[0][0]))"
      ],
      "execution_count": null,
      "outputs": [
        {
          "output_type": "stream",
          "text": [
            "['I', 'LOVE', '@Health4UandPets', 'u', 'guy', 'r', 'the', 'best', '!', '!']\n"
          ],
          "name": "stdout"
        }
      ]
    },
    {
      "cell_type": "markdown",
      "metadata": {
        "id": "YoJnIMRgZ0rH"
      },
      "source": [
        "## 2.3. Cleaning the Data <a class=\"anchor\" id=\"head-2-3\"></a>"
      ]
    },
    {
      "cell_type": "code",
      "metadata": {
        "id": "OnCFtkfpZ0rH",
        "outputId": "afc92659-a3d8-485e-d1e5-97b43e4afcb0"
      },
      "source": [
        "import re, string\n",
        "\n",
        "# Stopwords are frequently-used words (such as “the”, “a”, “an”, “in”) that do not hold any meaning useful to extract sentiment.\n",
        "# If it's your first time ever using nltk, you can download nltk's stopwords using: nltk.download('stopwords')\n",
        "from nltk.corpus import stopwords\n",
        "STOP_WORDS = stopwords.words('english')\n",
        "\n",
        "# A custom function defined in order to fine-tune the cleaning of the input text. This function is highly dependent on each usecase.\n",
        "# Note: Only include misspelling or abbreviations of commonly used words.\n",
        "#       Including many minimally present cases would negatively impact the performance. \n",
        "def cleaned(token):\n",
        "    if token == 'u':\n",
        "        return 'you'\n",
        "    if token == 'r':\n",
        "        return 'are'\n",
        "    if token == 'some1':\n",
        "        return 'someone'\n",
        "    if token == 'yrs':\n",
        "        return 'years'\n",
        "    if token == 'hrs':\n",
        "        return 'hours'\n",
        "    if token == 'mins':\n",
        "        return 'minutes'\n",
        "    if token == 'secs':\n",
        "        return 'seconds'\n",
        "    if token == 'pls' or token == 'plz':\n",
        "        return 'please'\n",
        "    if token == '2morow':\n",
        "        return 'tomorrow'\n",
        "    if token == '2day':\n",
        "        return 'today'\n",
        "    if token == '4got' or token == '4gotten':\n",
        "        return 'forget'\n",
        "    if token == 'amp' or token == 'quot' or token == 'lt' or token == 'gt' or token == '½25':\n",
        "        return ''\n",
        "    return token\n",
        "\n",
        "# This function will be our all-in-one noise removal function\n",
        "def remove_noise(tweet_tokens):\n",
        "\n",
        "    cleaned_tokens = []\n",
        "\n",
        "    for token, tag in pos_tag(tweet_tokens):\n",
        "        # Eliminating the token if it is a link\n",
        "        token = re.sub('http[s]?://(?:[a-zA-Z]|[0-9]|[$-_@.&+#]|[!*\\(\\),]|'\\\n",
        "                       '(?:%[0-9a-fA-F][0-9a-fA-F]))+','', token)\n",
        "        # Eliminating the token if it is a mention\n",
        "        token = re.sub(\"(@[A-Za-z0-9_]+)\",\"\", token)\n",
        "\n",
        "        if tag.startswith(\"NN\"):\n",
        "            pos = 'n'\n",
        "        elif tag.startswith('VB'):\n",
        "            pos = 'v'\n",
        "        else:\n",
        "            pos = 'a'\n",
        "\n",
        "        lemmatizer = WordNetLemmatizer()\n",
        "        token = lemmatizer.lemmatize(token, pos)\n",
        "\n",
        "        cleaned_token = cleaned(token.lower())\n",
        "        \n",
        "        # Eliminating the token if its length is less than 3, if it is a punctuation or if it is a stopword\n",
        "        if cleaned_token not in string.punctuation and len(cleaned_token) > 2 and cleaned_token not in STOP_WORDS:\n",
        "            cleaned_tokens.append(cleaned_token)\n",
        "            \n",
        "    return cleaned_tokens\n",
        "\n",
        "# Prevewing the remove_noise() output\n",
        "print(remove_noise(data[0][0]))"
      ],
      "execution_count": null,
      "outputs": [
        {
          "output_type": "stream",
          "text": [
            "['love', 'guy', 'best']\n"
          ],
          "name": "stdout"
        }
      ]
    },
    {
      "cell_type": "code",
      "metadata": {
        "id": "NaxO6kcWZ0rI",
        "outputId": "255e269d-fc36-4cb3-bfc6-f70ba2cd37ea"
      },
      "source": [
        "start_time = time()\n",
        "\n",
        "# As the Naive Bayesian classifier accepts inputs in a dict-like structure,\n",
        "# we have to define a function that transforms our data into the required input structure\n",
        "def list_to_dict(cleaned_tokens):\n",
        "    return dict([token, True] for token in cleaned_tokens)\n",
        "\n",
        "cleaned_tokens_list = []\n",
        "\n",
        "# Removing noise from all the data\n",
        "for tokens, label in data:\n",
        "    cleaned_tokens_list.append((remove_noise(tokens), label))\n",
        "\n",
        "print('Removed Noise, CPU Time:', time() - start_time)\n",
        "start_time = time()\n",
        "\n",
        "final_data = []\n",
        "\n",
        "# Transforming the data to fit the input structure of the Naive Bayesian classifier\n",
        "for tokens, label in cleaned_tokens_list:\n",
        "    final_data.append((list_to_dict(tokens), label))\n",
        "    \n",
        "print('Data Prepared for model, CPU Time:', time() - start_time)\n",
        "\n",
        "# Previewing our final (tokenized, cleaned and lemmatized) data list\n",
        "final_data[:5]"
      ],
      "execution_count": null,
      "outputs": [
        {
          "output_type": "stream",
          "text": [
            "Removed Noise, CPU Time: 436.24096179008484\n",
            "Data Prepared for model, CPU Time: 1.0369789600372314\n"
          ],
          "name": "stdout"
        },
        {
          "output_type": "execute_result",
          "data": {
            "text/plain": [
              "[({'love': True, 'guy': True, 'best': True}, 1),\n",
              " ({'meet': True,\n",
              "   'one': True,\n",
              "   'besties': True,\n",
              "   'tonight': True,\n",
              "   'cant': True,\n",
              "   'wait': True,\n",
              "   'girl': True,\n",
              "   'talk': True},\n",
              "  1),\n",
              " ({'thanks': True,\n",
              "   'twitter': True,\n",
              "   'add': True,\n",
              "   'sunisa': True,\n",
              "   'get': True,\n",
              "   'meet': True,\n",
              "   'hin': True,\n",
              "   'show': True,\n",
              "   'area': True,\n",
              "   'sweetheart': True},\n",
              "  1),\n",
              " ({'sick': True,\n",
              "   'really': True,\n",
              "   'cheap': True,\n",
              "   'hurt': True,\n",
              "   'much': True,\n",
              "   'eat': True,\n",
              "   'real': True,\n",
              "   'food': True,\n",
              "   'plus': True,\n",
              "   'friend': True,\n",
              "   'make': True,\n",
              "   'soup': True},\n",
              "  1),\n",
              " ({'effect': True, 'everyone': True}, 1)]"
            ]
          },
          "metadata": {
            "tags": []
          },
          "execution_count": 12
        }
      ]
    },
    {
      "cell_type": "markdown",
      "metadata": {
        "id": "PEfd0unLZ0rI"
      },
      "source": [
        "# 3. Visualizing the Data <a class=\"anchor\" id=\"head-3\"></a>"
      ]
    },
    {
      "cell_type": "markdown",
      "metadata": {
        "id": "BZSr2D0RZ0rJ"
      },
      "source": [
        "**Word Clouds** are one of the best visualizations for words frequencies in text documents.<br>Essentially, what it does is that it produces an image with frequently-appearing words in the text document, where the most frequent words are showcased with bigger font sizes, and less frequent words with smaller font sizes.\n",
        "\n",
        "> The below visualization is generated from a larger set of the data corpus"
      ]
    },
    {
      "cell_type": "code",
      "metadata": {
        "id": "5gpZHi2vZ0rJ",
        "outputId": "21dd8481-9cd6-4c87-d9f5-64f291b9af74"
      },
      "source": [
        "start_time = time()\n",
        "\n",
        "from wordcloud import WordCloud, STOPWORDS\n",
        "\n",
        "positive_words = []\n",
        "negative_words = []\n",
        "\n",
        "# Separating out positive and negative words (i.e., words appearing in negative and positive tweets),\n",
        "# in order to visualize each set of words seperately\n",
        "for i in range(len(cleaned_tokens_list)):\n",
        "    if cleaned_tokens_list[i][1] == 1:\n",
        "        positive_words.extend(cleaned_tokens_list[i][0])\n",
        "    else:\n",
        "        negative_words.extend(cleaned_tokens_list[i][0])\n",
        "\n",
        "# Defining our word cloud drawing function\n",
        "def wordcloud_draw(data, color = 'black'):\n",
        "    wordcloud = WordCloud(stopwords = STOPWORDS,\n",
        "                          background_color = color,\n",
        "                          width = 2500,\n",
        "                          height = 2000\n",
        "                         ).generate(' '.join(data))\n",
        "    plt.figure(1, figsize = (13, 13))\n",
        "    plt.imshow(wordcloud)\n",
        "    plt.axis('off')\n",
        "    plt.show()\n",
        "    \n",
        "print(\"Positive words\")\n",
        "wordcloud_draw(positive_words, 'white')\n",
        "print(\"Negative words\")\n",
        "wordcloud_draw(negative_words)        \n",
        "\n",
        "print('CPU Time:', time() - start_time)"
      ],
      "execution_count": null,
      "outputs": [
        {
          "output_type": "stream",
          "text": [
            "Positive words\n"
          ],
          "name": "stdout"
        },
        {
          "output_type": "display_data",
          "data": {
            "image/png": "[encoded data removed]",
            "text/plain": [
              "<Figure size 936x936 with 1 Axes>"
            ]
          },
          "metadata": {
            "tags": [],
            "needs_background": "light"
          }
        },
        {
          "output_type": "stream",
          "text": [
            "Negative words\n"
          ],
          "name": "stdout"
        },
        {
          "output_type": "display_data",
          "data": {
            "image/png": "[encoded data removed]",
            "text/plain": [
              "<Figure size 936x936 with 1 Axes>"
            ]
          },
          "metadata": {
            "tags": [],
            "needs_background": "light"
          }
        },
        {
          "output_type": "stream",
          "text": [
            "CPU Time: 98.87974452972412\n"
          ],
          "name": "stdout"
        }
      ]
    },
    {
      "cell_type": "markdown",
      "metadata": {
        "id": "8oMXuvv_Z0rJ"
      },
      "source": [
        "Those world clouds are beautiful!\n",
        "\n",
        "It's quite interesting to observe the (higher) occurence of *\\\"love\\\"* and *\\\"thank\\\"* in the positive tweets, and of *\\\"work\\\"* and *\\\"miss\\\"* in the negative tweets. However, and in my opinion, the most compelling information observed in those images is without a doubt the huge occurence of the word **today** in the negative tweets.\n",
        "\n",
        "I personally interpret this information as follows: *Bad news travel faster than good news*. People tend to talk and share bad news much more frequently and much more quickly than good news."
      ]
    },
    {
      "cell_type": "markdown",
      "metadata": {
        "id": "sKoKAzB5Z0rJ"
      },
      "source": [
        "# 4. Naive Bayesian Model <a class=\"anchor\" id=\"head-4\"></a>"
      ]
    },
    {
      "cell_type": "markdown",
      "metadata": {
        "id": "KWWgAyCTZ0rK"
      },
      "source": [
        "## 4.1. Splitting the Data <a class=\"anchor\" id=\"head-4-1\"></a>"
      ]
    },
    {
      "cell_type": "markdown",
      "metadata": {
        "id": "UiHBxR16Z0rK"
      },
      "source": [
        "First, we need to split our data into two sets: Training and Testing sets.<br>\n",
        "* **Train Data** is data used in order to build and train our classification model.\n",
        "* **Test Data** is data, that our classifier model has never seen before, used in order to assert the accuracy and test our classification model."
      ]
    },
    {
      "cell_type": "code",
      "metadata": {
        "id": "TqzBrTZCZ0rK"
      },
      "source": [
        "# As our data is currently ordered by label, we have to shuffle it before splitting it\n",
        "# .Random(140) randomizes our data with seed = 140. This guarantees the same shuffling for every execution of our code\n",
        "# Feel free to alter this value or even omit it to have different outputs for each code execution\n",
        "random.Random(140).shuffle(final_data)\n",
        "\n",
        "# Here we decided to split our data as 90% train data and 10% test data\n",
        "# Once again, feel free to alter this number and test the model accuracy\n",
        "trim_index = int(len(final_data) * 0.9)\n",
        "\n",
        "train_data = final_data[:trim_index]\n",
        "test_data = final_data[trim_index:]"
      ],
      "execution_count": null,
      "outputs": []
    },
    {
      "cell_type": "markdown",
      "metadata": {
        "id": "-IUjjgCEZ0rK"
      },
      "source": [
        "## 4.2. Training the Model <a class=\"anchor\" id=\"head-4-2\"></a>"
      ]
    },
    {
      "cell_type": "markdown",
      "metadata": {
        "id": "lQO0AWIYZ0rK"
      },
      "source": [
        "Now it's time to train our model on our training data.\n",
        "<br>\n",
        "In this notebook, we will utilize *nltk*'s **NaiveBayesClassifier**."
      ]
    },
    {
      "cell_type": "code",
      "metadata": {
        "id": "RMNc2C4UZ0rK"
      },
      "source": [
        "start_time = time()\n",
        "\n",
        "from nltk import classify\n",
        "from nltk import NaiveBayesClassifier\n",
        "classifier = NaiveBayesClassifier.train(train_data)\n",
        "\n",
        "# Output the model accuracy on the train and test data\n",
        "print('Accuracy on train data:', classify.accuracy(classifier, train_data))\n",
        "print('Accuracy on test data:', classify.accuracy(classifier, test_data))\n",
        "\n",
        "# Output the words that provide the most information about the sentiment of a tweet.\n",
        "# These are words that are heavily present in one sentiment group and very rarely present in the other group.\n",
        "print(classifier.show_most_informative_features(20))\n",
        "\n",
        "print('\\nCPU Time:', time() - start_time)"
      ],
      "execution_count": null,
      "outputs": []
    },
    {
      "cell_type": "markdown",
      "metadata": {
        "id": "faTO-QUCZ0rL"
      },
      "source": [
        "Wow, a 75.5% accuracy on the test set training a very *Naive* (😉) algorithm and in just 16 seconds!\n",
        "\n",
        "Taking a look at the 20 most informative features of the model, we can notice the high volume of negative to positive (0:1) informative features. This is very interesting as it means that negative tweets have a much more concentrated and limited vocabulary when compared to positive tweets.\n",
        "\n",
        "I personally interpret this as follows: *Whenever people are in a bad mood, they are confined in such a limited space of words and creativity, in contrast with when they are in a happy mood*.\n",
        "\n",
        "(Kudos for movies 🎬 for keeping our moods up 😊)"
      ]
    },
    {
      "cell_type": "markdown",
      "metadata": {
        "id": "qFj_kqaGZ0rL"
      },
      "source": [
        "## 4.3. Testing the Model <a class=\"anchor\" id=\"head-4-3\"></a>"
      ]
    },
    {
      "cell_type": "markdown",
      "metadata": {
        "id": "DlRELkmxZ0rL"
      },
      "source": [
        "Now that our classifier is built, we can have fun and test it with custom tweets!"
      ]
    },
    {
      "cell_type": "code",
      "metadata": {
        "id": "TZoieI67Z0rL",
        "outputId": "355bdcfa-5359-4fa3-c85f-82885d6e7774"
      },
      "source": [
        "custom_tweet = \"I ordered just once from TerribleCo, they screwed up, never used the app again.\"\n",
        "\n",
        "custom_tokens = remove_noise(tk.tokenize(custom_tweet))\n",
        "\n",
        "print(classifier.classify(dict([token, True] for token in custom_tokens)))"
      ],
      "execution_count": null,
      "outputs": [
        {
          "output_type": "stream",
          "text": [
            "0\n"
          ],
          "name": "stdout"
        }
      ]
    },
    {
      "cell_type": "code",
      "metadata": {
        "id": "BDDq53rIZ0rL",
        "outputId": "d6768f41-1247-4c65-c537-73d5416d4cd3"
      },
      "source": [
        "custom_tweet = \"I loved the show today! It was amazing.\"\n",
        "\n",
        "custom_tokens = remove_noise(tk.tokenize(custom_tweet))\n",
        "\n",
        "print(classifier.classify(dict([token, True] for token in custom_tokens)))"
      ],
      "execution_count": null,
      "outputs": [
        {
          "output_type": "stream",
          "text": [
            "1\n"
          ],
          "name": "stdout"
        }
      ]
    },
    {
      "cell_type": "code",
      "metadata": {
        "id": "H0p2mu7bZ0rL",
        "outputId": "399f23b9-5b24-4737-d696-21c1a5b89dc0"
      },
      "source": [
        "custom_tweet = \"No idea\"\n",
        "\n",
        "custom_tokens = remove_noise(tk.tokenize(custom_tweet))\n",
        "\n",
        "print(classifier.classify(dict([token, True] for token in custom_tokens)))"
      ],
      "execution_count": null,
      "outputs": [
        {
          "output_type": "stream",
          "text": [
            "1\n"
          ],
          "name": "stdout"
        }
      ]
    },
    {
      "cell_type": "markdown",
      "metadata": {
        "id": "rusY7KNMZ0rM"
      },
      "source": [
        "Nevertheless, this model has various shortcomings.\n",
        "\n",
        "As the model only evaluates sentences at an independent word level, it performs very poorly when it comes to negations and other multi-words constructs. For example, is the model gets the following input: **The concert was good!**, it would simply take each individual word (here, and after cleaning the input, *\\\"concert\\\"* and *\\\"good\\\"*) and calculate each word's probability to be either positive and negative and finally multiply everything together. Thus, we would expect the model to perform poorly on examples such: **The concert was not good!** or **I'm not very happy :(**."
      ]
    },
    {
      "cell_type": "code",
      "metadata": {
        "id": "MLCLwExVZ0rM",
        "outputId": "f0c44e8b-999e-4028-cb8f-98b7b889fe77"
      },
      "source": [
        "custom_tweet = \"Good\"\n",
        "\n",
        "custom_tokens = remove_noise(tk.tokenize(custom_tweet))\n",
        "\n",
        "print(classifier.classify(dict([token, True] for token in custom_tokens)))"
      ],
      "execution_count": null,
      "outputs": [
        {
          "output_type": "stream",
          "text": [
            "1\n"
          ],
          "name": "stdout"
        }
      ]
    },
    {
      "cell_type": "code",
      "metadata": {
        "id": "KxE9dD7MZ0rM",
        "outputId": "3c6c9312-a74e-4e2f-f6b5-8feb0e1d6bf7"
      },
      "source": [
        "custom_tweet = \"Not good\"\n",
        "\n",
        "custom_tokens = remove_noise(tk.tokenize(custom_tweet))\n",
        "\n",
        "print(classifier.classify(dict([token, True] for token in custom_tokens)))"
      ],
      "execution_count": null,
      "outputs": [
        {
          "output_type": "stream",
          "text": [
            "1\n"
          ],
          "name": "stdout"
        }
      ]
    },
    {
      "cell_type": "markdown",
      "metadata": {
        "id": "dLJ38GYmZ0rM"
      },
      "source": [
        "Also, the model isn't robust against sarcastic sentences."
      ]
    },
    {
      "cell_type": "code",
      "metadata": {
        "id": "izujl4KUZ0rM",
        "outputId": "e2bf0643-c063-432a-b752-96486643ce95"
      },
      "source": [
        "custom_tweet = \"The reward for good work is more work!\"\n",
        "\n",
        "custom_tokens = remove_noise(tk.tokenize(custom_tweet))\n",
        "\n",
        "print(classifier.classify(dict([token, True] for token in custom_tokens)))"
      ],
      "execution_count": null,
      "outputs": [
        {
          "output_type": "stream",
          "text": [
            "1\n"
          ],
          "name": "stdout"
        }
      ]
    },
    {
      "cell_type": "markdown",
      "metadata": {
        "id": "tPy2Txf0Z0rN"
      },
      "source": [
        "Finally, it is worth mentioning one more weakness of such a model: it does not generalize well.\n",
        "\n",
        "The model would perform greatly on data similar to the data it trained on. For example, if the model learned that **I love football** and **I love cooking** carry a positive sentiment, it would be pretty easy for it to classify **I love machine learning** as a sentence carrying a positive sentiment. However, if the model were to classify **I adore embeddings**, it would most probably miss-classify it. As it never encountered any of these words before, therefore it is unable to properly classify it, and would simply output a random choice."
      ]
    },
    {
      "cell_type": "markdown",
      "metadata": {
        "id": "FDv6egxfZ0rN"
      },
      "source": [
        "## 4.4. Asserting the Model <a class=\"anchor\" id=\"head-4-4\"></a> "
      ]
    },
    {
      "cell_type": "markdown",
      "metadata": {
        "id": "4SotBSODZ0rN"
      },
      "source": [
        "Finally, let's further assert our model by plotting the AUC and the confusion matrix of the model."
      ]
    },
    {
      "cell_type": "code",
      "metadata": {
        "id": "GviolMtfZ0rN",
        "outputId": "875b343d-c711-4b88-c7e9-a715a2fc2ab3"
      },
      "source": [
        "from sklearn import metrics\n",
        "\n",
        "# Storing all desired values in a list\n",
        "y = [test_data[i][1] for i in range(len(test_data))]\n",
        "# Storing all probabilities of having a positive sentiment in a list\n",
        "probs = [classifier.prob_classify(test_data[i][0]).prob(1) for i in range(len(test_data))]\n",
        "\n",
        "# Making sure both values a re equal\n",
        "print(len(y), len(probs))\n",
        "\n",
        "# performing the roc curve calculations\n",
        "fpr, tpr, thresholds = metrics.roc_curve(y, probs)\n",
        "\n",
        "# Printing the Area Under Curve (AUC) of the ROC curve (the closer to 1, the better)\n",
        "auc = metrics.roc_auc_score(y, probs)\n",
        "print('AUC: %.3f' % auc)"
      ],
      "execution_count": null,
      "outputs": [
        {
          "output_type": "stream",
          "text": [
            "40000 40000\n",
            "AUC: 0.834\n"
          ],
          "name": "stdout"
        }
      ]
    },
    {
      "cell_type": "code",
      "metadata": {
        "id": "_dj1cXrOZ0rN",
        "outputId": "a136e120-ca15-4f84-b88a-292f7b40c1ac"
      },
      "source": [
        "# Plotting the ROC Curve\n",
        "plt.figure(figsize=(5,5))\n",
        "plt.plot([0, 1], [0, 1], 'k--')\n",
        "plt.plot(fpr, tpr, label='NB')\n",
        "plt.xlabel('fpr')\n",
        "plt.ylabel('tpr')\n",
        "plt.title('Naive Bayesian ROC curve')\n",
        "plt.show()"
      ],
      "execution_count": null,
      "outputs": [
        {
          "output_type": "display_data",
          "data": {
            "image/png": "[encoded data removed]",
            "text/plain": [
              "<Figure size 360x360 with 1 Axes>"
            ]
          },
          "metadata": {
            "tags": [],
            "needs_background": "light"
          }
        }
      ]
    },
    {
      "cell_type": "code",
      "metadata": {
        "id": "q1cnS31cZ0rN",
        "outputId": "42ff7efe-0e73-4105-9a13-9417f2c43ea2"
      },
      "source": [
        "# Creating a confusion matrix (this specific confusion matrix function accepts numpy arrays rather than python lists)\n",
        "\n",
        "probs = [classifier.classify(test_data[i][0]) for i in range(len(test_data))]\n",
        "y = np.asarray(y)\n",
        "probs = np.asarray(probs)\n",
        "pd.crosstab(y, probs, rownames=['Actual'], colnames=['Predicted'], margins=True)"
      ],
      "execution_count": null,
      "outputs": [
        {
          "output_type": "execute_result",
          "data": {
            "text/html": [
              "<div>\n",
              "<style scoped>\n",
              "    .dataframe tbody tr th:only-of-type {\n",
              "        vertical-align: middle;\n",
              "    }\n",
              "\n",
              "    .dataframe tbody tr th {\n",
              "        vertical-align: top;\n",
              "    }\n",
              "\n",
              "    .dataframe thead th {\n",
              "        text-align: right;\n",
              "    }\n",
              "</style>\n",
              "<table border=\"1\" class=\"dataframe\">\n",
              "  <thead>\n",
              "    <tr style=\"text-align: right;\">\n",
              "      <th>Predicted</th>\n",
              "      <th>0</th>\n",
              "      <th>1</th>\n",
              "      <th>All</th>\n",
              "    </tr>\n",
              "    <tr>\n",
              "      <th>Actual</th>\n",
              "      <th></th>\n",
              "      <th></th>\n",
              "      <th></th>\n",
              "    </tr>\n",
              "  </thead>\n",
              "  <tbody>\n",
              "    <tr>\n",
              "      <th>0</th>\n",
              "      <td>16528</td>\n",
              "      <td>3452</td>\n",
              "      <td>19980</td>\n",
              "    </tr>\n",
              "    <tr>\n",
              "      <th>1</th>\n",
              "      <td>6326</td>\n",
              "      <td>13694</td>\n",
              "      <td>20020</td>\n",
              "    </tr>\n",
              "    <tr>\n",
              "      <th>All</th>\n",
              "      <td>22854</td>\n",
              "      <td>17146</td>\n",
              "      <td>40000</td>\n",
              "    </tr>\n",
              "  </tbody>\n",
              "</table>\n",
              "</div>"
            ],
            "text/plain": [
              "Predicted      0      1    All\n",
              "Actual                        \n",
              "0          16528   3452  19980\n",
              "1           6326  13694  20020\n",
              "All        22854  17146  40000"
            ]
          },
          "metadata": {
            "tags": []
          },
          "execution_count": 24
        }
      ]
    },
    {
      "cell_type": "markdown",
      "metadata": {
        "id": "NGfEaOS_Z0rO"
      },
      "source": [
        "# 5. Deep Learning Model - LSTM <a class=\"anchor\" id=\"head-5\"></a>"
      ]
    },
    {
      "cell_type": "markdown",
      "metadata": {
        "id": "qrATExYgZ0rO"
      },
      "source": [
        "**Deep Learning** is a very rapidly growing field, that is proving to be extremely beneficial in various scenarios. One of those scenarios, which we will be studying in this notebook, is the ability to process text data in a much more complex and powerful manner. In fact, in the next section of the notebook we will be focusing on implementing a Deep Learning model that will successfully tackle and solve the above mentioned shortcomings of the Naive Bayes model, such as the lack of relationship between words in a sentence and the poor generalization on previously unseen data.\n",
        "\n",
        "---"
      ]
    },
    {
      "cell_type": "markdown",
      "metadata": {
        "id": "mvpywqZXZ0rO"
      },
      "source": [
        "A **L**ong **S**hort-**T**erm **M**emory, or **LSTM**, is a type of machine learning neural networks. More specifically, it belongs to the family of **R**ecurrent **N**eural **N**etwords (**RNN**) in Deep Learning, which are specifically conceived in order to process *temporal data*. Temporal data is defined as data that is highly influenced by the order that it is presented in. This means that data coming before or after a given datum (singular for *data*) can greatly affect this datum. Text data is an example of temporal data. For example, let's consider the following sentence:\n",
        "\n",
        ">*Jane is not very happy. She's still mad at you!*\n",
        "\n",
        "In the above sentence, the word *not* greatly influences the meaning of the upcoming words *very happy*. Also, we used the word *she* as we are speaking about a female subject.\n",
        "\n",
        "Also, here's a fun example conveying the influence of words' positions directly influencing a sentence's meaning:\n",
        "\n",
        ">*Are you as clever as I am?*\n",
        ">\n",
        ">*Am I as clever as you are?*\n",
        "\n",
        "------------\n",
        "\n",
        "LSTM is an advanced and complex deep learning architecture, so we will avoid explaining it in detail in this notebook as it will result in a huge notebook! (Maybe it's a project for the future? 😉)\n",
        "\n",
        "That being said, you don't really need to know the ins and outs of LSTM in order to walk through the rest of this notebook, so don't worry about it for the moment!"
      ]
    },
    {
      "cell_type": "markdown",
      "metadata": {
        "id": "2WFzlQpGZ0rO"
      },
      "source": [
        "## 5.1. Data Pre-processing <a class=\"anchor\" id=\"head-5-1\"></a>"
      ]
    },
    {
      "cell_type": "markdown",
      "metadata": {
        "id": "1XUUIdMGZ0rP"
      },
      "source": [
        "### 5.1.1. Word Embeddings <a class=\"anchor\" id=\"head-5-1-1\"></a>"
      ]
    },
    {
      "cell_type": "markdown",
      "metadata": {
        "id": "2Hepzzc0Z0rP"
      },
      "source": [
        "Word embeddings are basically a way for us to convert words to *representational vectors*. What I mean by this is that, instead of mapping each word to an index, we want to map each word to a vector of real numbers, representing this word.\n",
        "\n",
        "The goal here is to be able to generate similar or close representational vectors for words that have similar meaning. For example, when feeding the words \"excited\" and \"thrilled\" to the word embedding model, we would like the model to output \"close\" representations for both words. Whereas if we feed the words \"excited\" and \"Java\", we would like the model to output \"far\" representations for both words.\n",
        "\n",
        "> The concept of \"close\" and \"far\" vectors is actually implemented using the [cosine similarity](https://en.wikipedia.org/wiki/Cosine_similarity). In fact, word embeddings and distance between words or relation between words is an immense discussion in its own. So I'll just keep my explanation to a minimum in this notebook.\n",
        "\n",
        "----------\n",
        "\n",
        "[This](https://papers.nips.cc/paper/2016/file/a486cd07e4ac3d270571622f4f316ec5-Paper.pdf) is a very interesting paper to read for advanced readers on the subject of word embeddings."
      ]
    },
    {
      "cell_type": "markdown",
      "metadata": {
        "id": "EXLwX3PmZ0rP"
      },
      "source": [
        "### 5.1.2. Global Vectors for Word Representation (GloVe) <a class=\"anchor\" id=\"head-5-1-2\"></a>"
      ]
    },
    {
      "cell_type": "markdown",
      "metadata": {
        "id": "WEcrY1KdZ0rP"
      },
      "source": [
        "Building and training good word embeddings is a tremendous process requiring millions of data samples and exceptional computational power. Luckily for us, folks at the University of Stanford already did this for us and published their results for free on their official [website](https://nlp.stanford.edu/projects/glove/)! Their model is called **GloVe**, and it's going to be what we'll use in the next steps"
      ]
    },
    {
      "cell_type": "code",
      "metadata": {
        "colab": {
          "base_uri": "https://localhost:8080/",
          "height": 101
        },
        "id": "PRrl-sR5h4ri",
        "outputId": "21e7f561-02b2-43b8-8a80-d296b915be73"
      },
      "source": [
        "# Downloading and unzipping the glove word embeddings from the official website\n",
        "\n",
        "!wget http://nlp.stanford.edu/data/glove.6B.zip\n",
        "!unzip glove.6B.zip"
      ],
      "execution_count": null,
      "outputs": [
        {
          "output_type": "stream",
          "text": [
            "Archive:  glove.6B.zip\n",
            "  inflating: glove.6B.50d.txt        \n",
            "  inflating: glove.6B.100d.txt       \n",
            "  inflating: glove.6B.200d.txt       \n",
            "  inflating: glove.6B.300d.txt       \n"
          ],
          "name": "stdout"
        }
      ]
    },
    {
      "cell_type": "code",
      "metadata": {
        "id": "6h1sO6OwZ0rQ"
      },
      "source": [
        "# Defining a handy function in order to load a given glove file\n",
        "\n",
        "def read_glove_vecs(glove_file):\n",
        "    with open(glove_file, 'r', encoding=\"utf8\") as f:\n",
        "        words = set()\n",
        "        word_to_vec_map = {}\n",
        "        for line in f:\n",
        "            line = line.strip().split()\n",
        "            curr_word = line[0]\n",
        "            words.add(curr_word)\n",
        "            word_to_vec_map[curr_word] = np.array(line[1:], dtype=np.float64)\n",
        "        \n",
        "        i = 1\n",
        "        words_to_index = {}\n",
        "        index_to_words = {}\n",
        "        for w in sorted(words):\n",
        "            words_to_index[w] = i\n",
        "            index_to_words[i] = w\n",
        "            i = i + 1\n",
        "    return words_to_index, index_to_words, word_to_vec_map"
      ],
      "execution_count": null,
      "outputs": []
    },
    {
      "cell_type": "markdown",
      "metadata": {
        "id": "rVlKGydeZ0rQ"
      },
      "source": [
        "GloVe embeddings come in various flavors. They basically differ depending on the type of data they were trained on, the length of the vocabulary, the size of the representational vectors and so on.\n",
        "\n",
        "We've previously downloaded GloVe vectors trained on 6 Billion tokens and having a dictionary, or *vocabulary*, size of 400,001 unique words. Believe it or not, this is the smallest model from GloVe! Next we will load the vectors that are 50-dimensional."
      ]
    },
    {
      "cell_type": "code",
      "metadata": {
        "id": "I77dcXKiZ0rQ"
      },
      "source": [
        "# Loading the 50-dimensional GloVe embeddings\n",
        "# This method will return three dictionaries:\n",
        "# * word_to_index: a dictionary mapping from words to their indices in the vocabulary\n",
        "# * index_to_word: dictionary mapping from indices to their corresponding words in the vocabulary\n",
        "# * word_to_vec_map: dictionary mapping words to their GloVe vector representation\n",
        "# Note that there are 400,001 words, with the valid indices ranging from 0 to 400,000\n",
        "\n",
        "word_to_index, index_to_word, word_to_vec_map = read_glove_vecs('glove.6B.50d.txt')"
      ],
      "execution_count": null,
      "outputs": []
    },
    {
      "cell_type": "code",
      "metadata": {
        "scrolled": true,
        "id": "QFZ-OOjRZ0rQ",
        "outputId": "6fb56814-c795-4a33-bcfa-c15c23689d1b"
      },
      "source": [
        "word_to_index['hello']"
      ],
      "execution_count": null,
      "outputs": [
        {
          "output_type": "execute_result",
          "data": {
            "text/plain": [
              "176468"
            ]
          },
          "metadata": {
            "tags": []
          },
          "execution_count": 28
        }
      ]
    },
    {
      "cell_type": "code",
      "metadata": {
        "scrolled": true,
        "id": "Xh8-f6SyZ0rQ",
        "outputId": "33121d1c-f7ee-4e40-e9b9-25e6e454fff9"
      },
      "source": [
        "word_to_vec_map['hello']"
      ],
      "execution_count": null,
      "outputs": [
        {
          "output_type": "execute_result",
          "data": {
            "text/plain": [
              "array([-0.38497 ,  0.80092 ,  0.064106, -0.28355 , -0.026759, -0.34532 ,\n",
              "       -0.64253 , -0.11729 , -0.33257 ,  0.55243 , -0.087813,  0.9035  ,\n",
              "        0.47102 ,  0.56657 ,  0.6985  , -0.35229 , -0.86542 ,  0.90573 ,\n",
              "        0.03576 , -0.071705, -0.12327 ,  0.54923 ,  0.47005 ,  0.35572 ,\n",
              "        1.2611  , -0.67581 , -0.94983 ,  0.68666 ,  0.3871  , -1.3492  ,\n",
              "        0.63512 ,  0.46416 , -0.48814 ,  0.83827 , -0.9246  , -0.33722 ,\n",
              "        0.53741 , -1.0616  , -0.081403, -0.67111 ,  0.30923 , -0.3923  ,\n",
              "       -0.55002 , -0.68827 ,  0.58049 , -0.11626 ,  0.013139, -0.57654 ,\n",
              "        0.048833,  0.67204 ])"
            ]
          },
          "metadata": {
            "tags": []
          },
          "execution_count": 29
        }
      ]
    },
    {
      "cell_type": "markdown",
      "metadata": {
        "id": "1EhbEsSJZ0rR"
      },
      "source": [
        "As this word embedding only considers 400,000 unique words, it might encounter words it has never seen before. For example, the word \"LSTM\" is most likely not included in those 400,000 words.\n",
        "\n",
        "In order to overcome such scenarios, word embeddings reserve an extra spot for \"unknown\" words, also denoted with the keyword **unk**."
      ]
    },
    {
      "cell_type": "code",
      "metadata": {
        "colab": {
          "base_uri": "https://localhost:8080/",
          "height": 34
        },
        "id": "xzf91LB4jU7X",
        "outputId": "ef261d20-285e-40c1-eaaa-92233cd40c58"
      },
      "source": [
        "word_to_index['unk']"
      ],
      "execution_count": null,
      "outputs": [
        {
          "output_type": "execute_result",
          "data": {
            "text/plain": [
              "372306"
            ]
          },
          "metadata": {
            "tags": []
          },
          "execution_count": 30
        }
      ]
    },
    {
      "cell_type": "markdown",
      "metadata": {
        "id": "N6xgRjNXZ0rR"
      },
      "source": [
        "Below is a short example of the usage of the cosine similarity in order to find correlations in the data.\n",
        "\n",
        "We can observe that the words *cucumber* and *tomato* are highly positively similar. Whereas the words *cucumber* and *phone* are not related at all, having a close to 0 similarity measure.\n",
        "\n",
        "> Note that the cosine similarity return values between -1 and +1, where **-1** denote completely opposite meanings, **+1** denote completely identical meanings and **0** denote totally unrelated meanings."
      ]
    },
    {
      "cell_type": "code",
      "metadata": {
        "id": "kta1-S25Z0rR"
      },
      "source": [
        "def cosine_similarity(u, v):\n",
        "    dot = np.dot(u, v)\n",
        "    norm_u = np.sqrt(np.sum(u**2))\n",
        "    norm_v = np.sqrt(np.sum(v**2))\n",
        "    cosine_similarity = dot / (norm_u * norm_v)\n",
        "    return cosine_similarity"
      ],
      "execution_count": null,
      "outputs": []
    },
    {
      "cell_type": "code",
      "metadata": {
        "id": "7Api5FdEZ0rR",
        "outputId": "f254a657-84d4-4f57-9dcc-ff57c2a16352"
      },
      "source": [
        "cosine_similarity(word_to_vec_map['cucumber'], word_to_vec_map['tomato'])"
      ],
      "execution_count": null,
      "outputs": [
        {
          "output_type": "execute_result",
          "data": {
            "text/plain": [
              "0.8632714714841137"
            ]
          },
          "metadata": {
            "tags": []
          },
          "execution_count": 32
        }
      ]
    },
    {
      "cell_type": "code",
      "metadata": {
        "id": "9tdaVsySZ0rR",
        "outputId": "fba32b27-c03a-486e-ba45-77a7c28addcf"
      },
      "source": [
        "cosine_similarity(word_to_vec_map['cucumber'], word_to_vec_map['phone'])"
      ],
      "execution_count": null,
      "outputs": [
        {
          "output_type": "execute_result",
          "data": {
            "text/plain": [
              "-0.012485506721235957"
            ]
          },
          "metadata": {
            "tags": []
          },
          "execution_count": 33
        }
      ]
    },
    {
      "cell_type": "markdown",
      "metadata": {
        "id": "OqhTrfkNZ0rS"
      },
      "source": [
        "### 5.1.3. Data Padding  <a class=\"anchor\" id=\"head-5-1-3\"></a>"
      ]
    },
    {
      "cell_type": "markdown",
      "metadata": {
        "id": "vz48l0ndZ0rS"
      },
      "source": [
        "## 5.2. Data Transformation <a class=\"anchor\" id=\"head-5-2\"></a>"
      ]
    },
    {
      "cell_type": "code",
      "metadata": {
        "colab": {
          "base_uri": "https://localhost:8080/"
        },
        "id": "plIFObh4jYJV",
        "outputId": "cc21833e-e053-454b-d410-b8e9d48b4392"
      },
      "source": [
        "start_time = time()\n",
        "\n",
        "unks = []\n",
        "UNKS = []\n",
        "\n",
        "# This function will act as a \"last resort\" in order to try and find the word\n",
        "# in the words embedding layer. It will basically eliminate contiguously occuring\n",
        "# instances of a similar character\n",
        "def cleared(word):\n",
        "    res = \"\"\n",
        "    prev = None\n",
        "    for char in word:\n",
        "        if char == prev: continue\n",
        "        prev = char\n",
        "        res += char\n",
        "    return res\n",
        "\n",
        "\n",
        "def sentence_to_indices(sentence_words, word_to_index, max_len, i):\n",
        "    global X, Y\n",
        "    sentence_indices = []\n",
        "    for j, w in enumerate(sentence_words):\n",
        "        try:\n",
        "            index = word_to_index[w]\n",
        "        except:\n",
        "            UNKS.append(w)\n",
        "            w = cleared(w)\n",
        "            try:\n",
        "                index = word_to_index[w]\n",
        "            except:\n",
        "                index = word_to_index['unk']\n",
        "                unks.append(w)\n",
        "        X[i, j] = index\n",
        "\n",
        "\n",
        "# Here we will utilize the already computed 'cleaned_tokens_list' variable\n",
        "   \n",
        "print('Removed Noise, CPU Time:', time() - start_time)\n",
        "start_time = time()\n",
        "\n",
        "list_len = [len(i) for i, j in cleaned_tokens_list]\n",
        "max_len = max(list_len)\n",
        "print('max_len:', max_len)\n",
        "\n",
        "X = np.zeros((len(cleaned_tokens_list), max_len))\n",
        "Y = np.zeros((len(cleaned_tokens_list), ))\n",
        "\n",
        "for i, tk_lb in enumerate(cleaned_tokens_list):\n",
        "    tokens, label = tk_lb\n",
        "    sentence_to_indices(tokens, word_to_index, max_len, i)\n",
        "    Y[i] = label\n",
        "    \n",
        "print('Data Prepared for model, CPU Time:', time() - start_time)\n",
        "\n",
        "\n",
        "print(X[:5])\n",
        "print(Y[:5])"
      ],
      "execution_count": null,
      "outputs": [
        {
          "output_type": "stream",
          "text": [
            "Removed Noise, CPU Time: 0.000396728515625\n",
            "max_len: 25\n",
            "Data Prepared for model, CPU Time: 1.9683396816253662\n",
            "[[226278. 169725.  74390.      0.      0.      0.      0.      0.      0.\n",
            "       0.      0.      0.      0.      0.      0.      0.      0.      0.\n",
            "       0.      0.      0.      0.      0.      0.      0.]\n",
            " [239785. 269953. 372306. 361859.  91041. 382320. 161844. 352214.      0.\n",
            "       0.      0.      0.      0.      0.      0.      0.      0.      0.\n",
            "       0.      0.      0.      0.      0.      0.      0.]\n",
            " [357161. 368306.  46173. 372306. 160418. 239785. 179025. 329974.  58999.\n",
            "  349437.      0.      0.      0.      0.      0.      0.      0.      0.\n",
            "       0.      0.      0.      0.      0.      0.      0.]\n",
            " [330826. 302352.  97698. 184322. 251645. 132701. 302292. 151204. 286963.\n",
            "  154049. 231458. 338210.      0.      0.      0.      0.      0.      0.\n",
            "       0.      0.      0.      0.      0.      0.      0.]\n",
            " [133896. 141948.      0.      0.      0.      0.      0.      0.      0.\n",
            "       0.      0.      0.      0.      0.      0.      0.      0.      0.\n",
            "       0.      0.      0.      0.      0.      0.      0.]]\n",
            "[1. 1. 1. 1. 1.]\n"
          ],
          "name": "stdout"
        }
      ]
    },
    {
      "cell_type": "markdown",
      "metadata": {
        "id": "rTpwLAh3Z0rT"
      },
      "source": [
        "## 5.3. Building the Model <a class=\"anchor\" id=\"head-5-3\"></a>"
      ]
    },
    {
      "cell_type": "code",
      "metadata": {
        "id": "x3Su-8zyZ0rT"
      },
      "source": [
        "import keras\n",
        "from keras import Sequential\n",
        "from keras.models import Model\n",
        "from keras.layers import Dense, Dropout, LSTM, Bidirectional\n",
        "from keras.layers.embeddings import Embedding\n",
        "from sklearn.model_selection import train_test_split"
      ],
      "execution_count": null,
      "outputs": []
    },
    {
      "cell_type": "code",
      "metadata": {
        "id": "_ugE7pGBm8A-"
      },
      "source": [
        "# Defining a function that will initialize and populate our embedding layer\n",
        "\n",
        "def pretrained_embedding_layer(word_to_vec_map, word_to_index, max_len):\n",
        "    vocab_len = len(word_to_index) + 1\n",
        "    emb_dim = word_to_vec_map[\"unk\"].shape[0] #50\n",
        "    \n",
        "    emb_matrix = np.zeros((vocab_len, emb_dim))\n",
        "    \n",
        "    for word, idx in word_to_index.items():\n",
        "        emb_matrix[idx, :] = word_to_vec_map[word]\n",
        "        \n",
        "    embedding_layer = Embedding(vocab_len, emb_dim, trainable=False, input_shape=(max_len,))\n",
        "    embedding_layer.build((None,))\n",
        "    embedding_layer.set_weights([emb_matrix])\n",
        "    \n",
        "    return embedding_layer"
      ],
      "execution_count": null,
      "outputs": []
    },
    {
      "cell_type": "code",
      "metadata": {
        "colab": {
          "base_uri": "https://localhost:8080/",
          "height": 286
        },
        "id": "UZvgewT9Ev4c",
        "scrolled": true,
        "outputId": "53cb7607-e27e-4c23-a5fd-e31ec09d68bb"
      },
      "source": [
        "# Defining a sequencial model composed of firstly the embedding layer, than a pair of Bidirectional LSTMs,\n",
        "# that finally feed into a sigmoid layer that generates our desired output betwene 0 and 1.\n",
        "\n",
        "model = Sequential()\n",
        "\n",
        "model.add(pretrained_embedding_layer(word_to_vec_map, word_to_index, max_len))\n",
        "model.add(Bidirectional(LSTM(units=128, return_sequences=True)))\n",
        "model.add(Bidirectional(LSTM(units=128, return_sequences=False)))\n",
        "model.add(Dense(units=1, activation='sigmoid'))\n",
        "\n",
        "model.summary()"
      ],
      "execution_count": null,
      "outputs": [
        {
          "output_type": "stream",
          "text": [
            "Model: \"sequential\"\n",
            "_________________________________________________________________\n",
            "Layer (type)                 Output Shape              Param #   \n",
            "=================================================================\n",
            "embedding (Embedding)        (None, 25, 50)            20000050  \n",
            "_________________________________________________________________\n",
            "bidirectional (Bidirectional (None, 25, 256)           183296    \n",
            "_________________________________________________________________\n",
            "bidirectional_1 (Bidirection (None, 256)               394240    \n",
            "_________________________________________________________________\n",
            "dense (Dense)                (None, 1)                 257       \n",
            "=================================================================\n",
            "Total params: 20,577,843\n",
            "Trainable params: 577,793\n",
            "Non-trainable params: 20,000,050\n",
            "_________________________________________________________________\n"
          ],
          "name": "stdout"
        }
      ]
    },
    {
      "cell_type": "code",
      "metadata": {
        "id": "TFHoaATvEv4f"
      },
      "source": [
        "# Compiling our model with a binary cross-entropy loss function, using the default adam optimizer\n",
        "# and setting the accurary as the metric to track and ameliorate\n",
        "\n",
        "model.compile(loss='binary_crossentropy', optimizer='adam', metrics=['accuracy'])"
      ],
      "execution_count": null,
      "outputs": []
    },
    {
      "cell_type": "code",
      "metadata": {
        "id": "aUvi0G_mEv4g"
      },
      "source": [
        "X_train, X_test, Y_train, Y_test = train_test_split(X, Y, test_size=0.2, random_state=0, stratify=Y)"
      ],
      "execution_count": null,
      "outputs": []
    },
    {
      "cell_type": "code",
      "metadata": {
        "colab": {
          "base_uri": "https://localhost:8080/",
          "height": 34
        },
        "id": "zW9yI7VcEv4i",
        "outputId": "043a6900-0ce8-4e00-997d-322268194611"
      },
      "source": [
        "len(X_train)"
      ],
      "execution_count": null,
      "outputs": [
        {
          "output_type": "execute_result",
          "data": {
            "text/plain": [
              "320000"
            ]
          },
          "metadata": {
            "tags": []
          },
          "execution_count": 40
        }
      ]
    },
    {
      "cell_type": "code",
      "metadata": {
        "colab": {
          "base_uri": "https://localhost:8080/",
          "height": 34
        },
        "id": "m5sRZYDyEv4k",
        "outputId": "f08dfbfd-4011-4a1e-e334-416f8ee37ae3"
      },
      "source": [
        "len(X_test)"
      ],
      "execution_count": null,
      "outputs": [
        {
          "output_type": "execute_result",
          "data": {
            "text/plain": [
              "80000"
            ]
          },
          "metadata": {
            "tags": []
          },
          "execution_count": 41
        }
      ]
    },
    {
      "cell_type": "markdown",
      "metadata": {
        "id": "3K2z0VDmZ0rU"
      },
      "source": [
        "## 5.4. Training the Model <a class=\"anchor\" id=\"head-5-4\"></a>"
      ]
    },
    {
      "cell_type": "code",
      "metadata": {
        "colab": {
          "base_uri": "https://localhost:8080/",
          "height": 706
        },
        "id": "R75KvAX1Ev4m",
        "outputId": "6db703ff-9281-4e52-b5e1-adb63ffb281b"
      },
      "source": [
        "# Setting a batch size of 20 and training our model for 20 epochs\n",
        "\n",
        "model.fit(X_train, Y_train, validation_data=(X_test, Y_test), epochs = 20, batch_size = 128, shuffle=True)"
      ],
      "execution_count": null,
      "outputs": [
        {
          "output_type": "stream",
          "text": [
            "Epoch 1/20\n",
            "2500/2500 [==============================] - 32s 13ms/step - loss: 0.5529 - accuracy: 0.7112 - val_loss: 0.5153 - val_accuracy: 0.7424\n",
            "Epoch 2/20\n",
            "2500/2500 [==============================] - 31s 12ms/step - loss: 0.5066 - accuracy: 0.7469 - val_loss: 0.4943 - val_accuracy: 0.7547\n",
            "Epoch 3/20\n",
            "2500/2500 [==============================] - 31s 12ms/step - loss: 0.4853 - accuracy: 0.7613 - val_loss: 0.4860 - val_accuracy: 0.7625\n",
            "Epoch 4/20\n",
            "2500/2500 [==============================] - 31s 12ms/step - loss: 0.4667 - accuracy: 0.7727 - val_loss: 0.4849 - val_accuracy: 0.7628\n",
            "Epoch 5/20\n",
            "2500/2500 [==============================] - 31s 12ms/step - loss: 0.4486 - accuracy: 0.7844 - val_loss: 0.4846 - val_accuracy: 0.7645\n",
            "Epoch 6/20\n",
            "2500/2500 [==============================] - 31s 13ms/step - loss: 0.4272 - accuracy: 0.7964 - val_loss: 0.4873 - val_accuracy: 0.7666\n",
            "Epoch 7/20\n",
            "2500/2500 [==============================] - 31s 12ms/step - loss: 0.4022 - accuracy: 0.8105 - val_loss: 0.5035 - val_accuracy: 0.7620\n",
            "Epoch 8/20\n",
            "2500/2500 [==============================] - 31s 12ms/step - loss: 0.3725 - accuracy: 0.8274 - val_loss: 0.5333 - val_accuracy: 0.7568\n",
            "Epoch 9/20\n",
            "2500/2500 [==============================] - 31s 12ms/step - loss: 0.3390 - accuracy: 0.8458 - val_loss: 0.5681 - val_accuracy: 0.7518\n",
            "Epoch 10/20\n",
            "2500/2500 [==============================] - 31s 12ms/step - loss: 0.3043 - accuracy: 0.8635 - val_loss: 0.6053 - val_accuracy: 0.7464\n",
            "Epoch 11/20\n",
            "2500/2500 [==============================] - 31s 12ms/step - loss: 0.2698 - accuracy: 0.8805 - val_loss: 0.6854 - val_accuracy: 0.7400\n",
            "Epoch 12/20\n",
            "2500/2500 [==============================] - 31s 12ms/step - loss: 0.2363 - accuracy: 0.8974 - val_loss: 0.7644 - val_accuracy: 0.7390\n",
            "Epoch 13/20\n",
            "2500/2500 [==============================] - 31s 12ms/step - loss: 0.2064 - accuracy: 0.9118 - val_loss: 0.8193 - val_accuracy: 0.7340\n",
            "Epoch 14/20\n",
            "2500/2500 [==============================] - 31s 12ms/step - loss: 0.1813 - accuracy: 0.9233 - val_loss: 0.9119 - val_accuracy: 0.7340\n",
            "Epoch 15/20\n",
            "2500/2500 [==============================] - 31s 12ms/step - loss: 0.1603 - accuracy: 0.9329 - val_loss: 0.9741 - val_accuracy: 0.7301\n",
            "Epoch 16/20\n",
            "2500/2500 [==============================] - 31s 13ms/step - loss: 0.1430 - accuracy: 0.9409 - val_loss: 1.0685 - val_accuracy: 0.7307\n",
            "Epoch 17/20\n",
            "2500/2500 [==============================] - 31s 13ms/step - loss: 0.1313 - accuracy: 0.9468 - val_loss: 1.1411 - val_accuracy: 0.7283\n",
            "Epoch 18/20\n",
            "2500/2500 [==============================] - 31s 12ms/step - loss: 0.1193 - accuracy: 0.9517 - val_loss: 1.2121 - val_accuracy: 0.7280\n",
            "Epoch 19/20\n",
            "2500/2500 [==============================] - 31s 12ms/step - loss: 0.1121 - accuracy: 0.9542 - val_loss: 1.2685 - val_accuracy: 0.7272\n",
            "Epoch 20/20\n",
            "2500/2500 [==============================] - 31s 12ms/step - loss: 0.1052 - accuracy: 0.9576 - val_loss: 1.3235 - val_accuracy: 0.7283\n"
          ],
          "name": "stdout"
        },
        {
          "output_type": "execute_result",
          "data": {
            "text/plain": [
              "<tensorflow.python.keras.callbacks.History at 0x7fb974032dd8>"
            ]
          },
          "metadata": {
            "tags": []
          },
          "execution_count": 42
        }
      ]
    },
    {
      "cell_type": "code",
      "metadata": {
        "id": "6J3rtQ3dZ0rU"
      },
      "source": [
        "# Defnining a handy function in order to plot various models accuracy and loss progress\n",
        "\n",
        "def plot_acc_loss(history):\n",
        "\n",
        "    acc = history.history['accuracy']\n",
        "    val_acc = history.history['val_accuracy']\n",
        "    loss = history.history['loss']\n",
        "    val_loss = history.history['val_loss']\n",
        "    epochs = range(1, len(acc) + 1)\n",
        "\n",
        "    plt.plot(epochs, acc, 'bo', label = 'Training Accuracy')\n",
        "    plt.plot(epochs, val_acc, 'r', label = 'Validation Accuracy')\n",
        "    plt.title('Training and Validation Accuracy')\n",
        "    plt.xlabel('Epochs')\n",
        "    plt.ylabel('Loss')\n",
        "    plt.legend()\n",
        "\n",
        "    plt.figure()\n",
        "    plt.plot(epochs, loss, 'bo', label = 'Training Loss')\n",
        "    plt.plot(epochs, val_loss, 'r', label = 'Validation Loss')\n",
        "    plt.title('Training and Validation Loss')\n",
        "    plt.xlabel('Epochs')\n",
        "    plt.ylabel('Loss')\n",
        "    plt.legend()\n",
        "    plt.show()"
      ],
      "execution_count": null,
      "outputs": []
    },
    {
      "cell_type": "code",
      "metadata": {
        "colab": {
          "base_uri": "https://localhost:8080/",
          "height": 573
        },
        "id": "t2RSp_d8Ev4o",
        "outputId": "7e7efca4-73d7-48a3-9ec9-f28b4addda8c"
      },
      "source": [
        "# Plotting the obtained training and validation loss and accuracy progressions.\n",
        "plot_acc_loss(model.history)"
      ],
      "execution_count": null,
      "outputs": [
        {
          "output_type": "display_data",
          "data": {
            "image/png": "[encoded data removed]",
            "text/plain": [
              "<Figure size 432x288 with 1 Axes>"
            ]
          },
          "metadata": {
            "tags": [],
            "needs_background": "light"
          }
        },
        {
          "output_type": "display_data",
          "data": {
            "image/png": "[encoded data removed]",
            "text/plain": [
              "<Figure size 432x288 with 1 Axes>"
            ]
          },
          "metadata": {
            "tags": [],
            "needs_background": "light"
          }
        }
      ]
    },
    {
      "cell_type": "markdown",
      "metadata": {
        "id": "2xuvVzq-Z0rV"
      },
      "source": [
        "The training accuracy is sky-rocketing, exceeding **95%** after 20 epochs! However, the validation accuracy increased slightly in the early epochs, reaching **76.6%** on the 6th epoch, after which it experienced a consistently gradual decrease. In data science, we would classify this model as having very high variance and low bias. This is also referred to as \"over-fitting\".\n",
        "\n",
        "**Over-Fitting** is basically the phenomenon where the model's performance on validation data starts degrading, while still achieving great progress on the test set. In other words, the model is doing exceptionally well on learning specific examples it has been trained on, but is failing to generalize to data it never saw in its training phase. "
      ]
    },
    {
      "cell_type": "markdown",
      "metadata": {
        "id": "rJ_SVLUYZ0rV"
      },
      "source": [
        "## 5.5. Investigating Possibilties to Improve the Model <a class=\"anchor\" id=\"head-5-5\"></a>"
      ]
    },
    {
      "cell_type": "markdown",
      "metadata": {
        "id": "n3dbR7SFZ0rV"
      },
      "source": [
        "Several directions could be undertaken at this stage in order to improve our model's performance. Arguably, the most promising direction to firstly look into is to introduce some kind of regularization in our model in order to try to reduce the clearly apparent over-fitting problem our model is facing. Let's specifically  look at the *dropout* regularization technique."
      ]
    },
    {
      "cell_type": "markdown",
      "metadata": {
        "id": "aNY24P7pZ0rV"
      },
      "source": [
        "### 5.5.1. Regularization - Dropout <a class=\"anchor\" id=\"head-5-5-1\"></a>"
      ]
    },
    {
      "cell_type": "markdown",
      "metadata": {
        "id": "CTd9aluHZ0rV"
      },
      "source": [
        "**Regularization** is the process of preventing a model from over-fitting the training data. You can conceptualize regularization as being a tool we use in order to render our model less sensible to every detail, and possibly outliers, in the training data. This should allow the model to better generalize and have a better performance on the validation data, or any data it wasn't trained on.\n",
        "\n",
        "**Dropout** is one of the many regularization techniques, and also one of the simplest to implement and most commonly used. Basically, what dropout does is that it randomly eliminates several (based on a parametrized percentage rate) neurons connections in the network, rendering the model less complex, and forcing the model to only look at part of a given example. The random elimination of connections in the model is repeated randomly for each example training data.\n",
        "\n",
        "<img src=\"./images/dropout.png\" style=\"width:600px;margin-bottom:15px\">\n",
        "\n",
        "<center><i>Srivastava, Nitish, et al. ”Dropout: a simple way to prevent neural networks from overfitting”, JMLR 2014</i></center>\n",
        "\n",
        "For example, let's consider the following sentences, with a dropout layer with a rate of 0.5 (50% of connections will be eliminated): \n",
        "\n",
        "> \"Another kind of regularization can be directly applied to the cost function\"\n",
        ">\n",
        "> \"This is my first ever notebook. Hope you're enjoying it so far!\"\n",
        "\n",
        "The output of the dropout layer could look like the following:\n",
        "\n",
        "> \"kind of regularization be to function\"\n",
        ">\n",
        "> \"This my notebook. you enjoying it far!\"\n",
        "\n",
        "Thus, the model will only have information on a part of the input example, and should be able to escape over-fitting particular characteristics of the training data."
      ]
    },
    {
      "cell_type": "markdown",
      "metadata": {
        "id": "QB9ZlNP2Z0rY"
      },
      "source": [
        "### Model Building - Dropout"
      ]
    },
    {
      "cell_type": "code",
      "metadata": {
        "id": "athoJIqmI6ku"
      },
      "source": [
        "keras.backend.clear_session()\n",
        "\n",
        "model_dropout = Sequential()\n",
        "\n",
        "model_dropout.add(pretrained_embedding_layer(word_to_vec_map, word_to_index, max_len))\n",
        "model_dropout.add(Dropout(rate=0.4))\n",
        "model_dropout.add(Bidirectional(LSTM(units=128, return_sequences=True)))\n",
        "model_dropout.add(Dropout(rate=0.4))\n",
        "model_dropout.add(Bidirectional(LSTM(units=128, return_sequences=False)))\n",
        "model_dropout.add(Dense(units=1, activation='sigmoid'))\n",
        "\n",
        "model_dropout.summary()"
      ],
      "execution_count": null,
      "outputs": []
    },
    {
      "cell_type": "code",
      "metadata": {
        "id": "-boWlv4EI6k0",
        "colab": {
          "base_uri": "https://localhost:8080/",
          "height": 161
        },
        "outputId": "ff75f74b-cb17-4b3c-eb76-41fd12f652f2"
      },
      "source": [
        "model_dropout.compile(loss='binary_crossentropy', optimizer='adam', metrics=['accuracy'])"
      ],
      "execution_count": 3,
      "outputs": [
        {
          "output_type": "error",
          "ename": "NameError",
          "evalue": "ignored",
          "traceback": [
            "\u001b[0;31m---------------------------------------------------------------------------\u001b[0m",
            "\u001b[0;31mNameError\u001b[0m                                 Traceback (most recent call last)",
            "\u001b[0;32m<ipython-input-3-5878e26dbb1b>\u001b[0m in \u001b[0;36m<module>\u001b[0;34m()\u001b[0m\n\u001b[0;32m----> 1\u001b[0;31m \u001b[0mmodel_dropout\u001b[0m\u001b[0;34m.\u001b[0m\u001b[0mcompile\u001b[0m\u001b[0;34m(\u001b[0m\u001b[0mloss\u001b[0m\u001b[0;34m=\u001b[0m\u001b[0;34m'binary_crossentropy'\u001b[0m\u001b[0;34m,\u001b[0m \u001b[0moptimizer\u001b[0m\u001b[0;34m=\u001b[0m\u001b[0;34m'adam'\u001b[0m\u001b[0;34m,\u001b[0m \u001b[0mmetrics\u001b[0m\u001b[0;34m=\u001b[0m\u001b[0;34m[\u001b[0m\u001b[0;34m'accuracy'\u001b[0m\u001b[0;34m]\u001b[0m\u001b[0;34m)\u001b[0m\u001b[0;34m\u001b[0m\u001b[0;34m\u001b[0m\u001b[0m\n\u001b[0m",
            "\u001b[0;31mNameError\u001b[0m: name 'model_dropout' is not defined"
          ]
        }
      ]
    },
    {
      "cell_type": "markdown",
      "metadata": {
        "id": "zeK1Gcu5Z0rZ"
      },
      "source": [
        "### Model Training - Dropout"
      ]
    },
    {
      "cell_type": "code",
      "metadata": {
        "colab": {
          "base_uri": "https://localhost:8080/"
        },
        "id": "jar58Q_1I6k7",
        "outputId": "2a4496f6-5bbd-47bd-f7ed-7a9950f7ffb8"
      },
      "source": [
        "model_dropout.fit(X_train, Y_train, validation_data=(X_test, Y_test), epochs = 20, batch_size = 128, shuffle=True)"
      ],
      "execution_count": null,
      "outputs": [
        {
          "output_type": "stream",
          "text": [
            "Epoch 1/20\n",
            "2500/2500 [==============================] - 31s 12ms/step - loss: 0.5963 - accuracy: 0.6731 - val_loss: 0.5375 - val_accuracy: 0.7253\n",
            "Epoch 2/20\n",
            "2500/2500 [==============================] - 29s 12ms/step - loss: 0.5628 - accuracy: 0.7030 - val_loss: 0.5185 - val_accuracy: 0.7391\n",
            "Epoch 3/20\n",
            "2500/2500 [==============================] - 30s 12ms/step - loss: 0.5493 - accuracy: 0.7138 - val_loss: 0.5068 - val_accuracy: 0.7481\n",
            "Epoch 4/20\n",
            "2500/2500 [==============================] - 30s 12ms/step - loss: 0.5394 - accuracy: 0.7211 - val_loss: 0.5014 - val_accuracy: 0.7519\n",
            "Epoch 5/20\n",
            "2500/2500 [==============================] - 29s 12ms/step - loss: 0.5318 - accuracy: 0.7268 - val_loss: 0.4972 - val_accuracy: 0.7538\n",
            "Epoch 6/20\n",
            "2500/2500 [==============================] - 30s 12ms/step - loss: 0.5263 - accuracy: 0.7305 - val_loss: 0.4955 - val_accuracy: 0.7567\n",
            "Epoch 7/20\n",
            "2500/2500 [==============================] - 29s 12ms/step - loss: 0.5218 - accuracy: 0.7344 - val_loss: 0.4915 - val_accuracy: 0.7588\n",
            "Epoch 8/20\n",
            "2500/2500 [==============================] - 29s 12ms/step - loss: 0.5177 - accuracy: 0.7377 - val_loss: 0.4882 - val_accuracy: 0.7598\n",
            "Epoch 9/20\n",
            "2500/2500 [==============================] - 29s 12ms/step - loss: 0.5144 - accuracy: 0.7398 - val_loss: 0.4864 - val_accuracy: 0.7613\n",
            "Epoch 10/20\n",
            "2500/2500 [==============================] - 29s 12ms/step - loss: 0.5115 - accuracy: 0.7420 - val_loss: 0.4923 - val_accuracy: 0.7602\n",
            "Epoch 11/20\n",
            "2500/2500 [==============================] - 29s 12ms/step - loss: 0.5094 - accuracy: 0.7427 - val_loss: 0.4823 - val_accuracy: 0.7645\n",
            "Epoch 12/20\n",
            "2500/2500 [==============================] - 29s 12ms/step - loss: 0.5070 - accuracy: 0.7447 - val_loss: 0.4841 - val_accuracy: 0.7623\n",
            "Epoch 13/20\n",
            "2500/2500 [==============================] - 29s 12ms/step - loss: 0.5049 - accuracy: 0.7460 - val_loss: 0.4816 - val_accuracy: 0.7649\n",
            "Epoch 14/20\n",
            "2500/2500 [==============================] - 29s 12ms/step - loss: 0.5028 - accuracy: 0.7479 - val_loss: 0.4821 - val_accuracy: 0.7665\n",
            "Epoch 15/20\n",
            "2500/2500 [==============================] - 29s 12ms/step - loss: 0.5016 - accuracy: 0.7486 - val_loss: 0.4817 - val_accuracy: 0.7648\n",
            "Epoch 16/20\n",
            "2500/2500 [==============================] - 29s 12ms/step - loss: 0.4994 - accuracy: 0.7508 - val_loss: 0.4827 - val_accuracy: 0.7658\n",
            "Epoch 17/20\n",
            "2500/2500 [==============================] - 30s 12ms/step - loss: 0.4983 - accuracy: 0.7508 - val_loss: 0.4837 - val_accuracy: 0.7653\n",
            "Epoch 18/20\n",
            "2500/2500 [==============================] - 29s 12ms/step - loss: 0.4963 - accuracy: 0.7528 - val_loss: 0.4792 - val_accuracy: 0.7660\n",
            "Epoch 19/20\n",
            "2500/2500 [==============================] - 29s 12ms/step - loss: 0.4952 - accuracy: 0.7533 - val_loss: 0.4792 - val_accuracy: 0.7670\n",
            "Epoch 20/20\n",
            "2500/2500 [==============================] - 29s 12ms/step - loss: 0.4942 - accuracy: 0.7529 - val_loss: 0.4811 - val_accuracy: 0.7673\n"
          ],
          "name": "stdout"
        },
        {
          "output_type": "execute_result",
          "data": {
            "text/plain": [
              "<tensorflow.python.keras.callbacks.History at 0x7ff0e838b828>"
            ]
          },
          "metadata": {
            "tags": []
          },
          "execution_count": 47
        }
      ]
    },
    {
      "cell_type": "code",
      "metadata": {
        "colab": {
          "base_uri": "https://localhost:8080/",
          "height": 573
        },
        "id": "PMyJt7FsI6lC",
        "outputId": "bc7f6756-3aaa-4fdf-c9e9-dc85ce1cbae0"
      },
      "source": [
        "plot_acc_loss(model_dropout.history)"
      ],
      "execution_count": null,
      "outputs": [
        {
          "output_type": "display_data",
          "data": {
            "image/png": "[encoded data removed]",
            "text/plain": [
              "<Figure size 432x288 with 1 Axes>"
            ]
          },
          "metadata": {
            "tags": [],
            "needs_background": "light"
          }
        },
        {
          "output_type": "display_data",
          "data": {
            "image/png": "[encoded data removed]",
            "text/plain": [
              "<Figure size 432x288 with 1 Axes>"
            ]
          },
          "metadata": {
            "tags": [],
            "needs_background": "light"
          }
        }
      ]
    },
    {
      "cell_type": "markdown",
      "metadata": {
        "id": "c2XtjpR7Z0rZ"
      },
      "source": [
        "We can clearly see the effects of adding dropout layers on the training progress. The training accuracy is progressing at a much slower pace than it previously did. Nevertheless, the validation accuracy is steadily increasing, reaching 76.7%.\n",
        "\n",
        "Let's keep on training the model for 20 more epochs."
      ]
    },
    {
      "cell_type": "code",
      "metadata": {
        "colab": {
          "base_uri": "https://localhost:8080/"
        },
        "id": "-zCHwT1dVLlJ",
        "outputId": "9fdac09d-c3b8-4bfa-a73d-eb694c0fe573"
      },
      "source": [
        "model_dropout.fit(X_train, Y_train, validation_data=(X_test, Y_test), epochs = 20, batch_size = 128, shuffle=True)"
      ],
      "execution_count": null,
      "outputs": [
        {
          "output_type": "stream",
          "text": [
            "Epoch 1/20\n",
            "2500/2500 [==============================] - 29s 12ms/step - loss: 0.4930 - accuracy: 0.7550 - val_loss: 0.4780 - val_accuracy: 0.7675\n",
            "Epoch 2/20\n",
            "2500/2500 [==============================] - 29s 12ms/step - loss: 0.4913 - accuracy: 0.7557 - val_loss: 0.4857 - val_accuracy: 0.7661\n",
            "Epoch 3/20\n",
            "2500/2500 [==============================] - 29s 12ms/step - loss: 0.4908 - accuracy: 0.7562 - val_loss: 0.4820 - val_accuracy: 0.7689\n",
            "Epoch 4/20\n",
            "2500/2500 [==============================] - 29s 12ms/step - loss: 0.4892 - accuracy: 0.7558 - val_loss: 0.4802 - val_accuracy: 0.7685\n",
            "Epoch 5/20\n",
            "2500/2500 [==============================] - 30s 12ms/step - loss: 0.4879 - accuracy: 0.7580 - val_loss: 0.4784 - val_accuracy: 0.7692\n",
            "Epoch 6/20\n",
            "2500/2500 [==============================] - 29s 12ms/step - loss: 0.4864 - accuracy: 0.7586 - val_loss: 0.4788 - val_accuracy: 0.7693\n",
            "Epoch 7/20\n",
            "2500/2500 [==============================] - 29s 12ms/step - loss: 0.4870 - accuracy: 0.7588 - val_loss: 0.4789 - val_accuracy: 0.7695\n",
            "Epoch 8/20\n",
            "2500/2500 [==============================] - 29s 12ms/step - loss: 0.4861 - accuracy: 0.7594 - val_loss: 0.4811 - val_accuracy: 0.7677\n",
            "Epoch 9/20\n",
            "2500/2500 [==============================] - 29s 12ms/step - loss: 0.4848 - accuracy: 0.7606 - val_loss: 0.4794 - val_accuracy: 0.7702\n",
            "Epoch 10/20\n",
            "2500/2500 [==============================] - 29s 12ms/step - loss: 0.4845 - accuracy: 0.7598 - val_loss: 0.4779 - val_accuracy: 0.7701\n",
            "Epoch 11/20\n",
            "2500/2500 [==============================] - 29s 12ms/step - loss: 0.4829 - accuracy: 0.7616 - val_loss: 0.4799 - val_accuracy: 0.7696\n",
            "Epoch 12/20\n",
            "2500/2500 [==============================] - 29s 12ms/step - loss: 0.4823 - accuracy: 0.7616 - val_loss: 0.4784 - val_accuracy: 0.7678\n",
            "Epoch 13/20\n",
            "2500/2500 [==============================] - 29s 12ms/step - loss: 0.4817 - accuracy: 0.7619 - val_loss: 0.4778 - val_accuracy: 0.7713\n",
            "Epoch 14/20\n",
            "2500/2500 [==============================] - 30s 12ms/step - loss: 0.4817 - accuracy: 0.7624 - val_loss: 0.4797 - val_accuracy: 0.7694\n",
            "Epoch 15/20\n",
            "2500/2500 [==============================] - 30s 12ms/step - loss: 0.4804 - accuracy: 0.7629 - val_loss: 0.4769 - val_accuracy: 0.7703\n",
            "Epoch 16/20\n",
            "2500/2500 [==============================] - 30s 12ms/step - loss: 0.4803 - accuracy: 0.7627 - val_loss: 0.4772 - val_accuracy: 0.7701\n",
            "Epoch 17/20\n",
            "2500/2500 [==============================] - 30s 12ms/step - loss: 0.4791 - accuracy: 0.7635 - val_loss: 0.4762 - val_accuracy: 0.7704\n",
            "Epoch 18/20\n",
            "2500/2500 [==============================] - 30s 12ms/step - loss: 0.4796 - accuracy: 0.7643 - val_loss: 0.4772 - val_accuracy: 0.7709\n",
            "Epoch 19/20\n",
            "2500/2500 [==============================] - 30s 12ms/step - loss: 0.4780 - accuracy: 0.7650 - val_loss: 0.4775 - val_accuracy: 0.7703\n",
            "Epoch 20/20\n",
            "2500/2500 [==============================] - 30s 12ms/step - loss: 0.4782 - accuracy: 0.7643 - val_loss: 0.4795 - val_accuracy: 0.7689\n"
          ],
          "name": "stdout"
        },
        {
          "output_type": "execute_result",
          "data": {
            "text/plain": [
              "<tensorflow.python.keras.callbacks.History at 0x7ff0f69ad160>"
            ]
          },
          "metadata": {
            "tags": []
          },
          "execution_count": 49
        }
      ]
    },
    {
      "cell_type": "code",
      "metadata": {
        "colab": {
          "base_uri": "https://localhost:8080/",
          "height": 573
        },
        "id": "8BzppwkIVLqY",
        "outputId": "a76b0248-3e4c-42f2-b7ef-ef79e0386360"
      },
      "source": [
        "plot_acc_loss(model_dropout.history)"
      ],
      "execution_count": null,
      "outputs": [
        {
          "output_type": "display_data",
          "data": {
            "image/png": "[encoded data removed]",
            "text/plain": [
              "<Figure size 432x288 with 1 Axes>"
            ]
          },
          "metadata": {
            "tags": [],
            "needs_background": "light"
          }
        },
        {
          "output_type": "display_data",
          "data": {
            "image/png": "[encoded data removed]",
            "text/plain": [
              "<Figure size 432x288 with 1 Axes>"
            ]
          },
          "metadata": {
            "tags": [],
            "needs_background": "light"
          }
        }
      ]
    },
    {
      "cell_type": "markdown",
      "metadata": {
        "id": "l15A32vUZ0ra"
      },
      "source": [
        "We can observe that the accuracy has plateaued, reaching its best validation value of **77.1%**."
      ]
    },
    {
      "cell_type": "markdown",
      "metadata": {
        "id": "Fz7bvZutZ0ra"
      },
      "source": [
        "Thus, we can conclude that the regularization process did not really help us in our case. A tiny **0.5%** improvement was observed after adding dropout to the model.\n",
        "\n",
        "This leads us to the second direction to investigate in order to improve our model: **data**."
      ]
    },
    {
      "cell_type": "markdown",
      "metadata": {
        "id": "S4lSjL45Z0ra"
      },
      "source": [
        "### 5.5.2. Inspecting the Data - Unknown Words <a class=\"anchor\" id=\"head-5-5-2\"></a>"
      ]
    },
    {
      "cell_type": "markdown",
      "metadata": {
        "id": "L8zcWwTsZ0ra"
      },
      "source": [
        "As explained earlier, whenever a word is not included in the words embedding mapping, it is referred to as an unknown word, or *unk*. Let's count the number of words that are being flagged as unknowns in our data. "
      ]
    },
    {
      "cell_type": "code",
      "metadata": {
        "id": "pdBS_dMqhYKm"
      },
      "source": [
        "unk = word_to_index['unk']\n",
        "\n",
        "n_unk_words = 0\n",
        "\n",
        "for x in X:\n",
        "    for y in x:\n",
        "        if y == unk:\n",
        "            n_unk_words += 1\n",
        "n_unk_words"
      ],
      "execution_count": null,
      "outputs": []
    },
    {
      "cell_type": "markdown",
      "metadata": {
        "id": "aEJHbb3YZ0ra"
      },
      "source": [
        "200K unknown words are kind of a lot. In fact, after counting the total number of words in our data, this equates to ~7% of all words. "
      ]
    },
    {
      "cell_type": "code",
      "metadata": {
        "id": "XIXt8qTjFvER"
      },
      "source": [
        "len(unks)"
      ],
      "execution_count": null,
      "outputs": []
    },
    {
      "cell_type": "code",
      "metadata": {
        "id": "bOAhxyASFwjm"
      },
      "source": [
        "len(UNKS)"
      ],
      "execution_count": null,
      "outputs": []
    },
    {
      "cell_type": "markdown",
      "metadata": {
        "id": "-X0NHnA6Z0rb"
      },
      "source": [
        "If you remember in the above defined function `sentence_to_indices`, we have incorporated a \"last resort\" function `cleared`, which eliminates contiguous similar characters. It seems like our last resort of clearing the words helped us reduce the number of unknown words by 28,000 !"
      ]
    },
    {
      "cell_type": "markdown",
      "metadata": {
        "id": "gnohtqERZ0rb"
      },
      "source": [
        "Let's investigate some of the most commonly occuring unknowns words in our data."
      ]
    },
    {
      "cell_type": "code",
      "metadata": {
        "id": "rMtPFErehozD"
      },
      "source": [
        "from collections import Counter\n",
        "Counter(unks).most_common(50)"
      ],
      "execution_count": null,
      "outputs": []
    },
    {
      "cell_type": "markdown",
      "metadata": {
        "id": "IAqnhVdJZ0rb"
      },
      "source": [
        "We can observe that most of the unknown words are very common words, however the word embeddings layer does not support quotes. For example, if you try to get the index of the word \"i'm\", you'll be prompted with a key error, whereas the word \"im\" is available as a valid key. Other words, such as \"idk\", \"lmao\" or \"b-day\" reminds us that our data comes from twitter, and we'll have to individually handle each of these words such that our words embedding layer recognise them."
      ]
    },
    {
      "cell_type": "markdown",
      "metadata": {
        "id": "Fd6r_iZ_Z0rc"
      },
      "source": [
        "### Further data cleaning"
      ]
    },
    {
      "cell_type": "markdown",
      "metadata": {
        "id": "OIrwxyV2Z0rc"
      },
      "source": [
        "Gathering insights from the above output, and from manually skimming through the data, the `remove_noise` function has been redefined as follows:"
      ]
    },
    {
      "cell_type": "code",
      "metadata": {
        "id": "OSMvwUIKjMb-"
      },
      "source": [
        "# A custom function defined in order to fine-tune the cleaning of the input text.\n",
        "# This function is being \"upgraded\" such that it performs a more thourough cleaning of the data\n",
        "# in order to better fit our words embedding layer\n",
        "def cleaned(token):\n",
        "    if token == 'u':\n",
        "        return 'you'\n",
        "    if token == 'r':\n",
        "        return 'are'\n",
        "    if token == 'some1':\n",
        "        return 'someone'\n",
        "    if token == 'yrs':\n",
        "        return 'years'\n",
        "    if token == 'hrs':\n",
        "        return 'hours'\n",
        "    if token == 'mins':\n",
        "        return 'minutes'\n",
        "    if token == 'secs':\n",
        "        return 'seconds'\n",
        "    if token == 'pls' or token == 'plz':\n",
        "        return 'please'\n",
        "    if token == '2morow' or token == '2moro':\n",
        "        return 'tomorrow'\n",
        "    if token == '2day':\n",
        "        return 'today'\n",
        "    if token == '4got' or token == '4gotten':\n",
        "        return 'forget'\n",
        "    if token in ['hahah', 'hahaha', 'hahahaha']:\n",
        "        return 'haha'\n",
        "    if token == \"mother's\":\n",
        "        return \"mother\"\n",
        "    if token == \"mom's\":\n",
        "        return \"mom\"\n",
        "    if token == \"dad's\":\n",
        "        return \"dad\"\n",
        "    if token == 'bday' or token == 'b-day':\n",
        "        return 'birthday'\n",
        "    if token in [\"i'm\", \"don't\", \"can't\", \"couldn't\", \"aren't\", \"wouldn't\", \"isn't\", \"didn't\", \"hadn't\",\n",
        "                 \"doesn't\", \"won't\", \"haven't\", \"wasn't\", \"hasn't\", \"shouldn't\", \"ain't\", \"they've\"]:\n",
        "        return token.replace(\"'\", \"\")\n",
        "    if token in ['lmao', 'lolz', 'rofl']:\n",
        "        return 'lol'\n",
        "    if token == '<3':\n",
        "        return 'love'\n",
        "    if token == 'thanx' or token == 'thnx':\n",
        "        return 'thanks'\n",
        "    if token == 'goood':\n",
        "        return 'good'\n",
        "    if token in ['amp', 'quot', 'lt', 'gt', '½25', '..', '. .', '. . .']:\n",
        "        return ''\n",
        "    return token\n",
        "\n",
        "\n",
        "# This function will be our all-in-one noise removal function\n",
        "def remove_noise(tweet_tokens):\n",
        "\n",
        "    cleaned_tokens = []\n",
        "\n",
        "    for token in tweet_tokens:\n",
        "        # Eliminating the token if it is a link\n",
        "        token = re.sub(r'''(?i)\\b((?:https?://|www\\d{0,3}[.]|[a-z0-9.\\-]+[.][a-z]{2,4}/)(?:[^\\s()<>]+|\\(([^\\s()<>]+|(\\([^\\s()<>]+\\)))*\\))+(?:\\(([^\\s()<>]+|(\\([^\\s()<>]+\\)))*\\)|[^\\s`!()\\[\\]{};:'\".,<>?«»“”‘’]))''', \" \", token)\n",
        "        # Eliminating the token if it is a mention\n",
        "        token = re.sub(\"(@[A-Za-z0-9_]+)\",\"\", token)\n",
        "        \n",
        "        cleaned_token = cleaned(token.lower())\n",
        "        \n",
        "        if cleaned_token == \"idk\":\n",
        "            cleaned_tokens.append('i')\n",
        "            cleaned_tokens.append('dont')\n",
        "            cleaned_tokens.append('know')\n",
        "            continue\n",
        "        if cleaned_token == \"i'll\":\n",
        "            cleaned_tokens.append('i')\n",
        "            cleaned_tokens.append('will')\n",
        "            continue\n",
        "        if cleaned_token == \"you'll\":\n",
        "            cleaned_tokens.append('you')\n",
        "            cleaned_tokens.append('will')\n",
        "            continue\n",
        "        if cleaned_token == \"we'll\":\n",
        "            cleaned_tokens.append('we')\n",
        "            cleaned_tokens.append('will')\n",
        "            continue\n",
        "        if cleaned_token == \"it'll\":\n",
        "            cleaned_tokens.append('it')\n",
        "            cleaned_tokens.append('will')\n",
        "            continue\n",
        "        if cleaned_token == \"it's\":\n",
        "            cleaned_tokens.append('it')\n",
        "            cleaned_tokens.append('is')\n",
        "            continue\n",
        "        if cleaned_token == \"i've\":\n",
        "            cleaned_tokens.append('i')\n",
        "            cleaned_tokens.append('have')\n",
        "            continue\n",
        "        if cleaned_token == \"you've\":\n",
        "            cleaned_tokens.append('you')\n",
        "            cleaned_tokens.append('have')\n",
        "            continue\n",
        "        if cleaned_token == \"we've\":\n",
        "            cleaned_tokens.append('we')\n",
        "            cleaned_tokens.append('have')\n",
        "            continue\n",
        "        if cleaned_token == \"they've\":\n",
        "            cleaned_tokens.append('they')\n",
        "            cleaned_tokens.append('have')\n",
        "            continue\n",
        "        if cleaned_token == \"you're\":\n",
        "            cleaned_tokens.append('you')\n",
        "            cleaned_tokens.append('are')\n",
        "            continue\n",
        "        if cleaned_token == \"we're\":\n",
        "            cleaned_tokens.append('we')\n",
        "            cleaned_tokens.append('are')\n",
        "            continue\n",
        "        if cleaned_token == \"they're\":\n",
        "            cleaned_tokens.append('they')\n",
        "            cleaned_tokens.append('are')\n",
        "            continue\n",
        "        if cleaned_token == \"let's\":\n",
        "            cleaned_tokens.append('let')\n",
        "            cleaned_tokens.append('us')\n",
        "            continue\n",
        "        if cleaned_token == \"she's\":\n",
        "            cleaned_tokens.append('she')\n",
        "            cleaned_tokens.append('is')\n",
        "            continue\n",
        "        if cleaned_token == \"he's\":\n",
        "            cleaned_tokens.append('he')\n",
        "            cleaned_tokens.append('is')\n",
        "            continue\n",
        "        if cleaned_token == \"that's\":\n",
        "            cleaned_tokens.append('that')\n",
        "            cleaned_tokens.append('is')\n",
        "            continue\n",
        "        if cleaned_token == \"i'd\":\n",
        "            cleaned_tokens.append('i')\n",
        "            cleaned_tokens.append('would')\n",
        "            continue\n",
        "        if cleaned_token == \"you'd\":\n",
        "            cleaned_tokens.append('you')\n",
        "            cleaned_tokens.append('would')\n",
        "            continue\n",
        "        if cleaned_token == \"there's\":\n",
        "            cleaned_tokens.append('there')\n",
        "            cleaned_tokens.append('is')\n",
        "            continue\n",
        "        if cleaned_token == \"what's\":\n",
        "            cleaned_tokens.append('what')\n",
        "            cleaned_tokens.append('is')\n",
        "            continue\n",
        "        if cleaned_token == \"how's\":\n",
        "            cleaned_tokens.append('how')\n",
        "            cleaned_tokens.append('is')\n",
        "            continue\n",
        "        if cleaned_token == \"who's\":\n",
        "            cleaned_tokens.append('who')\n",
        "            cleaned_tokens.append('is')\n",
        "            continue\n",
        "        if cleaned_token == \"y'all\" or cleaned_token == \"ya'll\":\n",
        "            cleaned_tokens.append('you')\n",
        "            cleaned_tokens.append('all')\n",
        "            continue\n",
        "\n",
        "        if cleaned_token.strip() and cleaned_token not in string.punctuation: \n",
        "            cleaned_tokens.append(cleaned_token)\n",
        "            \n",
        "    return cleaned_tokens\n",
        "\n",
        "\n",
        "# Prevewing the remove_noise() output\n",
        "print(remove_noise(data[0][0]))"
      ],
      "execution_count": null,
      "outputs": []
    },
    {
      "cell_type": "markdown",
      "metadata": {
        "id": "EklJ2sMAZ0rc"
      },
      "source": [
        "Now let's re-compute our X and Y arrays according to the newly defined `remove_noise` function."
      ]
    },
    {
      "cell_type": "code",
      "metadata": {
        "colab": {
          "base_uri": "https://localhost:8080/",
          "height": 228
        },
        "id": "OrmGUp5nZ0rd",
        "outputId": "ab581a7c-283f-4894-a419-289af00b1d6c"
      },
      "source": [
        "start_time = time()\n",
        "\n",
        "unks = []\n",
        "UNKS = []\n",
        "\n",
        "def cleared(word):\n",
        "    res = \"\"\n",
        "    prev = None\n",
        "    for char in word:\n",
        "        if char == prev: continue\n",
        "        prev = char\n",
        "        res += char\n",
        "    return res\n",
        "\n",
        "\n",
        "def sentence_to_indices(sentence_words, word_to_index, max_len, i):\n",
        "    global X, Y\n",
        "    sentence_indices = []\n",
        "    for j, w in enumerate(sentence_words):\n",
        "        try:\n",
        "            index = word_to_index[w]\n",
        "        except:\n",
        "            UNKS.append(w)\n",
        "            w = cleared(w)\n",
        "            try:\n",
        "                index = word_to_index[w]\n",
        "            except:\n",
        "                index = word_to_index['unk']\n",
        "                unks.append(w)\n",
        "        X[i, j] = index\n",
        "\n",
        "\n",
        "cleaned_tokens_list = []\n",
        "\n",
        "# Removing noise from all the data, using the newly defined function\n",
        "for tokens, label in data:\n",
        "    x = remove_noise(tokens)\n",
        "    if x:\n",
        "        cleaned_tokens_list.append((x, label))\n",
        "\n",
        "print('Removed Noise, CPU Time:', time() - start_time)\n",
        "start_time = time()\n",
        "\n",
        "list_len = [len(i) for i, j in cleaned_tokens_list]\n",
        "max_len = max(list_len)\n",
        "print('max_len:', max_len)\n",
        "\n",
        "X = np.zeros((len(cleaned_tokens_list), max_len))\n",
        "Y = np.zeros((len(cleaned_tokens_list), ))\n",
        "\n",
        "for i, tk_lb in enumerate(cleaned_tokens_list):\n",
        "    tokens, label = tk_lb\n",
        "    sentence_to_indices(tokens, word_to_index, max_len, i)\n",
        "    Y[i] = label\n",
        "    \n",
        "print('Data Prepared for model, CPU Time:', time() - start_time)\n",
        "\n",
        "\n",
        "print(X[:5])\n",
        "print(Y[:5])"
      ],
      "execution_count": 7,
      "outputs": [
        {
          "output_type": "error",
          "ename": "NameError",
          "evalue": "ignored",
          "traceback": [
            "\u001b[0;31m---------------------------------------------------------------------------\u001b[0m",
            "\u001b[0;31mNameError\u001b[0m                                 Traceback (most recent call last)",
            "\u001b[0;32m<ipython-input-7-8bd747374e84>\u001b[0m in \u001b[0;36m<module>\u001b[0;34m()\u001b[0m\n\u001b[0;32m----> 1\u001b[0;31m \u001b[0mstart_time\u001b[0m \u001b[0;34m=\u001b[0m \u001b[0mtime\u001b[0m\u001b[0;34m(\u001b[0m\u001b[0;34m)\u001b[0m\u001b[0;34m\u001b[0m\u001b[0;34m\u001b[0m\u001b[0m\n\u001b[0m\u001b[1;32m      2\u001b[0m \u001b[0;34m\u001b[0m\u001b[0m\n\u001b[1;32m      3\u001b[0m \u001b[0munks\u001b[0m \u001b[0;34m=\u001b[0m \u001b[0;34m[\u001b[0m\u001b[0;34m]\u001b[0m\u001b[0;34m\u001b[0m\u001b[0;34m\u001b[0m\u001b[0m\n\u001b[1;32m      4\u001b[0m \u001b[0mUNKS\u001b[0m \u001b[0;34m=\u001b[0m \u001b[0;34m[\u001b[0m\u001b[0;34m]\u001b[0m\u001b[0;34m\u001b[0m\u001b[0;34m\u001b[0m\u001b[0m\n\u001b[1;32m      5\u001b[0m \u001b[0;34m\u001b[0m\u001b[0m\n",
            "\u001b[0;31mNameError\u001b[0m: name 'time' is not defined"
          ]
        }
      ]
    },
    {
      "cell_type": "markdown",
      "metadata": {
        "id": "F70ezx5bZ0rd"
      },
      "source": [
        "Great, let's take a look at the progress accomplished:"
      ]
    },
    {
      "cell_type": "code",
      "metadata": {
        "id": "eRcm76khh87e"
      },
      "source": [
        "unk = word_to_index['unk']\n",
        "\n",
        "n_unk_words = 0\n",
        "\n",
        "for x in X:\n",
        "    for y in x:\n",
        "        if y == unk:\n",
        "            n_unk_words += 1\n",
        "\n",
        "n_unk_words"
      ],
      "execution_count": null,
      "outputs": []
    },
    {
      "cell_type": "markdown",
      "metadata": {
        "id": "CETIznTrZ0rd"
      },
      "source": [
        "That's amazing! We've managed to bring down the number of unknown words from 200K to 120K! Calculating the percentage of unknown words now, it shrank down to approximately **2.5%**."
      ]
    },
    {
      "cell_type": "code",
      "metadata": {
        "id": "VkY5O-zGkofg"
      },
      "source": [
        "from collections import Counter\n",
        "Counter(unks).most_common(50)"
      ],
      "execution_count": null,
      "outputs": []
    },
    {
      "cell_type": "markdown",
      "metadata": {
        "id": "ozIQBZ7yZ0re"
      },
      "source": [
        "Further optimizing the number of unknown words at this point would not be the best use of our time. As now we are left with a big number of minimally occuring words in the data. Thus, spending more time cleaning the data would result in a very little return on investment.\n",
        "\n",
        "Now, let's try to train our model on the newly generated *cleaner* data!"
      ]
    },
    {
      "cell_type": "markdown",
      "metadata": {
        "id": "JohI72T0E_s8"
      },
      "source": [
        "### Model Training - Cleaner Data"
      ]
    },
    {
      "cell_type": "code",
      "metadata": {
        "id": "iVdxOv4DE_U1"
      },
      "source": [
        "keras.backend.clear_session()\n",
        "\n",
        "model_clean_data = Sequential()\n",
        "\n",
        "model_clean_data.add(pretrained_embedding_layer(word_to_vec_map, word_to_index, max_len))\n",
        "model_clean_data.add(Bidirectional(LSTM(units=128, return_sequences=True)))\n",
        "model_clean_data.add(Bidirectional(LSTM(units=128, return_sequences=False)))\n",
        "model_clean_data.add(Dense(units=1, activation='sigmoid'))\n",
        "\n",
        "model_clean_data.summary()"
      ],
      "execution_count": null,
      "outputs": []
    },
    {
      "cell_type": "code",
      "metadata": {
        "id": "AEsJsNRYFk_r"
      },
      "source": [
        "model_clean_data.compile(loss='binary_crossentropy', optimizer='adam', metrics=['accuracy'])"
      ],
      "execution_count": null,
      "outputs": []
    },
    {
      "cell_type": "code",
      "metadata": {
        "id": "oOlkTTg4oRqR"
      },
      "source": [
        "X_train, X_test, Y_train, Y_test = train_test_split(X, Y, test_size=0.2, random_state=0, stratify=Y)"
      ],
      "execution_count": null,
      "outputs": []
    },
    {
      "cell_type": "code",
      "metadata": {
        "id": "CV11UMBUoRqS"
      },
      "source": [
        "len(X_train)"
      ],
      "execution_count": null,
      "outputs": []
    },
    {
      "cell_type": "code",
      "metadata": {
        "id": "L-1qwwjJoRqU"
      },
      "source": [
        "len(X_test)"
      ],
      "execution_count": null,
      "outputs": []
    },
    {
      "cell_type": "code",
      "metadata": {
        "id": "wd2GaDFVFsgG"
      },
      "source": [
        "model_clean_data.fit(X_train, Y_train, validation_data=(X_test, Y_test), epochs = 20, batch_size = 128, shuffle=True)"
      ],
      "execution_count": null,
      "outputs": []
    },
    {
      "cell_type": "code",
      "metadata": {
        "id": "NyWPetSA8ydg"
      },
      "source": [
        "history = model_clean_data.history\n",
        "\n",
        "acc = history.history['accuracy']\n",
        "val_acc = history.history['val_accuracy']\n",
        "loss = history.history['loss']\n",
        "val_loss = history.history['val_loss']\n",
        "epochs = range(1, len(acc) + 1)\n",
        "\n",
        "plt.plot(epochs, acc, 'bo', label = 'Training Accuracy')\n",
        "plt.plot(epochs, val_acc, 'r', label = 'Validation Accuracy')\n",
        "plt.title('Training and Validation Accuracy')\n",
        "plt.xlabel('Epochs')\n",
        "plt.ylabel('Accuracy')\n",
        "plt.legend()\n",
        "y_arrow = max(val_acc)\n",
        "x_arrow = val_acc.index(y_arrow) + 1\n",
        "plt.annotate(str(y_arrow)[:6],\n",
        "             (x_arrow, y_arrow),\n",
        "             xytext=(x_arrow + 5, y_arrow + .02),\n",
        "             arrowprops=dict(facecolor='orange', shrink=0.05))\n",
        "plt.xticks(epochs)\n",
        "\n",
        "plt.figure()\n",
        "plt.plot(epochs, loss, 'bo', label = 'Training Loss')\n",
        "plt.plot(epochs, val_loss, 'r', label = 'Validation Loss')\n",
        "plt.title('Training and Validation Loss')\n",
        "plt.xlabel('Epochs')\n",
        "plt.ylabel('Loss')\n",
        "plt.legend()\n",
        "plt.xticks(epochs)\n",
        "plt.show()"
      ],
      "execution_count": null,
      "outputs": []
    },
    {
      "cell_type": "markdown",
      "metadata": {
        "id": "EIscuBmVZ0rf"
      },
      "source": [
        "Wow, now that's a considerable performance gain! The model managed to reach an impressive **81%** validation accuracy on the 6th epoch!\n",
        "\n",
        "This goes to prove the following: **The model is as good as the data**.\n",
        "\n",
        "Nonetheless, the over-fitting problem is still persistent in the model. This could be further reduced by introducing a more aggressive regularization and training the model for a much bigger number of epochs, and by also training the model on a bigger, more diverse, cleaner data."
      ]
    },
    {
      "cell_type": "markdown",
      "metadata": {
        "id": "UL5jFcALZ0rf"
      },
      "source": [
        "## 5.6. Predicting on Custom Data <a class=\"anchor\" id=\"head-5-6\"></a>"
      ]
    },
    {
      "cell_type": "markdown",
      "metadata": {
        "id": "ZUR7yJzHZ0rg"
      },
      "source": [
        "Now let’s have some fun testing our **new and all-powerful** model on some custom data!\n",
        "\n",
        "This model will return values between 0 and 1, representing it’s confidence on whether a tweet holds a negative or a positive sentiment. The closer the value is to 0, the more confident the model is that this tweet is negative. The closer the value is to 1, the more confident the model is that this tweet is negative."
      ]
    },
    {
      "cell_type": "code",
      "metadata": {
        "id": "r8N7cHLdZ0rg"
      },
      "source": [
        "def sentence_to_indices(sentence_words, max_len):\n",
        "    X = np.zeros((max_len))\n",
        "    sentence_indices = []\n",
        "    for j, w in enumerate(sentence_words):\n",
        "        try:\n",
        "            index = word_to_index[w]\n",
        "        except:\n",
        "            w = cleared(w)\n",
        "            try:\n",
        "                index = word_to_index[w]\n",
        "            except:\n",
        "                index = word_to_index['unk']\n",
        "        X[j] = index\n",
        "    return X\n",
        "\n",
        "def predict_custom_tweet_sentiment(custom_tweet):\n",
        "    # Convert the tweet such that it can be fed to the model\n",
        "    x_input = sentence_to_indices(remove_noise(tk.tokenize(custom_tweet)), max_len)\n",
        "    \n",
        "    # Retrun the model's prediction\n",
        "    return model_clean_data.predict(np.array([x_input])).item()"
      ],
      "execution_count": null,
      "outputs": []
    },
    {
      "cell_type": "code",
      "metadata": {
        "id": "7ki18KZcZ0rg",
        "outputId": "1ac9263f-3f92-4bcc-ac3b-9f6f68d4f0e5"
      },
      "source": [
        "predict_custom_tweet_sentiment(\"I'm happy you're here!\")"
      ],
      "execution_count": null,
      "outputs": [
        {
          "output_type": "execute_result",
          "data": {
            "text/plain": [
              "0.9999997615814209"
            ]
          },
          "metadata": {
            "tags": []
          },
          "execution_count": 67
        }
      ]
    },
    {
      "cell_type": "code",
      "metadata": {
        "id": "VRFhVq9QZ0rg",
        "outputId": "0b1b2582-851c-431f-bbde-cca131f5c316"
      },
      "source": [
        "predict_custom_tweet_sentiment(\"I'm not happy you're here!\")"
      ],
      "execution_count": null,
      "outputs": [
        {
          "output_type": "execute_result",
          "data": {
            "text/plain": [
              "8.845418960845564e-06"
            ]
          },
          "metadata": {
            "tags": []
          },
          "execution_count": 68
        }
      ]
    },
    {
      "cell_type": "markdown",
      "metadata": {
        "id": "cHnju_XVZ0rg"
      },
      "source": [
        "Woohoo, our model can now easily understand the relationship between words! It managed to identify that adding a *not* before a *happy*, would completely **switch** its meaning!"
      ]
    },
    {
      "cell_type": "code",
      "metadata": {
        "id": "3k-uCU4jZ0rh",
        "outputId": "2d5a6228-a867-44bf-d0ba-8bf1a4bbde20"
      },
      "source": [
        "predict_custom_tweet_sentiment(\"I disliked his attitude...\")"
      ],
      "execution_count": null,
      "outputs": [
        {
          "output_type": "execute_result",
          "data": {
            "text/plain": [
              "0.0002866356517188251"
            ]
          },
          "metadata": {
            "tags": []
          },
          "execution_count": 69
        }
      ]
    },
    {
      "cell_type": "code",
      "metadata": {
        "id": "1udF0slvZ0rh",
        "outputId": "78a6d471-c0e4-4465-a119-321ac0bc166d"
      },
      "source": [
        "predict_custom_tweet_sentiment(\"I'm infatuated with you\")"
      ],
      "execution_count": null,
      "outputs": [
        {
          "output_type": "execute_result",
          "data": {
            "text/plain": [
              "0.9560049772262573"
            ]
          },
          "metadata": {
            "tags": []
          },
          "execution_count": 70
        }
      ]
    },
    {
      "cell_type": "code",
      "metadata": {
        "id": "cJmFuM6QZ0rh",
        "outputId": "aed35d99-5b0b-4e4b-e882-fc55a3f770ee"
      },
      "source": [
        "(negative_words + positive_words).count('love')"
      ],
      "execution_count": null,
      "outputs": [
        {
          "output_type": "execute_result",
          "data": {
            "text/plain": [
              "17634"
            ]
          },
          "metadata": {
            "tags": []
          },
          "execution_count": 71
        }
      ]
    },
    {
      "cell_type": "code",
      "metadata": {
        "id": "2eodNyJtZ0rh",
        "outputId": "ded79fc2-c7c5-4364-c5c0-6ff920f5e4b8"
      },
      "source": [
        "(negative_words + positive_words).count('infatuated')"
      ],
      "execution_count": null,
      "outputs": [
        {
          "output_type": "execute_result",
          "data": {
            "text/plain": [
              "0"
            ]
          },
          "metadata": {
            "tags": []
          },
          "execution_count": 72
        }
      ]
    },
    {
      "cell_type": "markdown",
      "metadata": {
        "id": "UQtSKOuBZ0rh"
      },
      "source": [
        "Our model is even capable of correctly predicting the sentiment of words **it never encountered** during training!\n",
        "\n",
        "The word *Infatuated* never appeared neither in the positive nor negative tweets. However, given that it’s strongly related to the word *love* (a very frequently appearing word in our data), and thanks to the use of **word embeddings**, the model was capable of assigning a positive sentiment to this word!"
      ]
    },
    {
      "cell_type": "markdown",
      "metadata": {
        "id": "FleLVt2xZ0rh"
      },
      "source": [
        "## 5.7. Inspecting Wrongly Predicted Data <a class=\"anchor\" id=\"head-5-7\"></a>"
      ]
    },
    {
      "cell_type": "markdown",
      "metadata": {
        "id": "noRlLBrXZ0ri"
      },
      "source": [
        "Let's take a look at some of the wrongly classified data from the model."
      ]
    },
    {
      "cell_type": "code",
      "metadata": {
        "id": "a4D7HfxUQ4K2"
      },
      "source": [
        "def i_to_sentence(I):\n",
        "    sentence = \"\"\n",
        "    for i in I:\n",
        "        if i:\n",
        "            sentence += index_to_word[int(i)] + \" \"\n",
        "        else:\n",
        "            break\n",
        "    return sentence"
      ],
      "execution_count": null,
      "outputs": []
    },
    {
      "cell_type": "code",
      "metadata": {
        "colab": {
          "base_uri": "https://localhost:8080/",
          "height": 1000
        },
        "id": "3brr15ME7NVz",
        "outputId": "24af0c31-bb98-4af0-fe6f-e7c7acf26f6a"
      },
      "source": [
        "C = 0\n",
        "\n",
        "pred = model_clean_data.predict(X_test)\n",
        "\n",
        "for i in range(len(X_test)):\n",
        "    final_pred = 1 if pred[i] > 0.5 else 0\n",
        "    \n",
        "    if(final_pred != Y_test[i]):\n",
        "        print('Expected sentiment: ' + str(int(Y_test[i])) + '. Input: ' + i_to_sentence(X_test[i]))\n",
        "        C += 1\n",
        "        \n",
        "    if C > 100:\n",
        "        break"
      ],
      "execution_count": null,
      "outputs": [
        {
          "output_type": "stream",
          "text": [
            "Expected sentiment: 1. Input: rusty is back \n",
            "Expected sentiment: 0. Input: you sure i can if you want to because i want to and lol fish fish it actually really healthy silly its good for you so eat \n",
            "Expected sentiment: 0. Input: ahhh this sunshine needs taking advantage of damn work deeper than rap baby big unk album rick ross all day unk bun 50 \n",
            "Expected sentiment: 0. Input: cannot stand that im wide awake 4am stressing about money trying to eliminate unnecessary bills but not having luck \n",
            "Expected sentiment: 0. Input: i can understand ... sorry for making you talk about it cherish the positive memories \n",
            "Expected sentiment: 0. Input: unk you get tht from \n",
            "Expected sentiment: 1. Input: my computer is unk ... but having loads of fun with bailey this weekend \n",
            "Expected sentiment: 1. Input: just waking up i have final exams this week not excited to take them but excited to be done \n",
            "Expected sentiment: 0. Input: oh no my thoughts are definitely with you \n",
            "Expected sentiment: 1. Input: have to get killer abs starting today \n",
            "Expected sentiment: 0. Input: unk ;) hmmm where is my creative muse \n",
            "Expected sentiment: 1. Input: untouched on 4music \n",
            "Expected sentiment: 0. Input: i remember saying good morning to you \n",
            "Expected sentiment: 1. Input: hello everyone it is cold windy and raining here a super day i have an all day webinar training on unk so will be back late \n",
            "Expected sentiment: 0. Input: no we just got back today you \n",
            "Expected sentiment: 1. Input: being slammed with spam followers today is it just me or is that all i can attract get a life people \n",
            "Expected sentiment: 1. Input: unk higuain \n",
            "Expected sentiment: 1. Input: yea i remember when i was at unk camera the guy kept pushing bags cleaners software warranty etc i refused them all \n",
            "Expected sentiment: 0. Input: is unk \n",
            "Expected sentiment: 1. Input: thinking about vacationing in hawaii ... alone \n",
            "Expected sentiment: 1. Input: home wanna be lazy ... hope to be lazy ... think im gonna be lazy today \n",
            "Expected sentiment: 0. Input: tweetie direct \n",
            "Expected sentiment: 0. Input: i miss you our friendship and our day mono \n",
            "Expected sentiment: 1. Input: we do i will be posting pics later today ... gotta go be momma right now head out to a soccer game \n",
            "Expected sentiment: 0. Input: must clear out my dvr ... getting rid of it unk \n",
            "Expected sentiment: 0. Input: for what are you leavin me again before i get to see you \n",
            "Expected sentiment: 0. Input: whos bring you all back mae \n",
            "Expected sentiment: 0. Input: hi guys no1 son is home from the navy chaos reigns till he goes on sunday \n",
            "Expected sentiment: 1. Input: haha almost grounded but i can talk my way out of anything stupid old bish \n",
            "Expected sentiment: 0. Input: haha yeah they are keep it as close to user experience as they can stable for sure prettier fixes my dvd writer no \n",
            "Expected sentiment: 1. Input: played volleyball and a piece of flesh is suddenly missing from my elbow but it was fun \n",
            "Expected sentiment: 1. Input: going to bed soon but i really want to thank everyone who has ever tipped well may good karma come around on you unk \n",
            "Expected sentiment: 0. Input: im hungry and there is nothing good to eat in the house dammit \n",
            "Expected sentiment: 0. Input: how did yous like maitland lol i loved ur set but i lost my necklace that my bf gave me for valentines during take care x \n",
            "Expected sentiment: 1. Input: where are you at ms unk i wanna go swim too thinking of heading to the foster city pool w \n",
            "Expected sentiment: 0. Input: good morning i wish i was off work today just had a bagel and going to get ready for my run \n",
            "Expected sentiment: 1. Input: editing the videos that i took yesterday at fmf \n",
            "Expected sentiment: 1. Input: feels alot better still really sad but i know everything will be fine \n",
            "Expected sentiment: 0. Input: lol she is offering me a case of guiness can you one up her if you buy me two i will stay let us start the bidding wars \n",
            "Expected sentiment: 0. Input: please say happy birthday or roni mickey please please please they are huge fans of mcfly and it is will make them very happy x \n",
            "Expected sentiment: 0. Input: hey are you guys planning any so cal headlining shows around the time of the blink tour we dont get you in irvine \n",
            "Expected sentiment: 0. Input: simon used to bury my my little unk \n",
            "Expected sentiment: 1. Input: just up the longest lie in a while thank goodness neck still painful but today i am going to head out y \n",
            "Expected sentiment: 1. Input: quiet you it is amazing that i can buy read a book from my iphone ... but the battery cant be removed unk \n",
            "Expected sentiment: 1. Input: at work waiting to go on a shoot \n",
            "Expected sentiment: 0. Input: today was emotionally and physically tiring its funny how small things can bring back a flood of emotions le sigh \n",
            "Expected sentiment: 1. Input: it was cool to meet you too man what is up with unk service unavailable someone forgot to pay the hosting \n",
            "Expected sentiment: 1. Input: awww thats such a lovely thing for you to say to me are you doing any in manchester x \n",
            "Expected sentiment: 0. Input: me im home \n",
            "Expected sentiment: 0. Input: wakey wakey goodmorning getting ready for unk have to run a mile in pe today \n",
            "Expected sentiment: 1. Input: how bout having your water break going into labor on the floor of your new boss home hope you feel better \n",
            "Expected sentiment: 1. Input: sad about leaving excited for the move tired ... gotta finish last min unk need coffee and an assistant \n",
            "Expected sentiment: 1. Input: i just finished organizing my traditional drawings im still unsatisfied but oh well another weekend unk she has a life on the unk \n",
            "Expected sentiment: 0. Input: ooops retracting wcc comment next wcc meeting is same day as sf carnival i will be setting resetting sound band gear on stage all day \n",
            "Expected sentiment: 0. Input: anyone wanna pick me up from white room in a bit and give me a ride home \n",
            "Expected sentiment: 1. Input: thunder storm \n",
            "Expected sentiment: 1. Input: was that supposed to be a sad post if it is cheer up demi \n",
            "Expected sentiment: 0. Input: unk 21 \n",
            "Expected sentiment: 0. Input: awww our state is better than yours grin \n",
            "Expected sentiment: 0. Input: learning some important things about video editing for example not to forget where you stored your footage \n",
            "Expected sentiment: 0. Input: listening to music and tidying room waiting for toby \n",
            "Expected sentiment: 0. Input: the whole purity ball thing is just unk \n",
            "Expected sentiment: 1. Input: most cancers have the knack for cooking however im still trying to master mac and cheese and lasagna ... \n",
            "Expected sentiment: 1. Input: i just ate a choc yoghurt \n",
            "Expected sentiment: 0. Input: morning unk its a busy day for me should study a lot for the exam more work to do in less time unk unk \n",
            "Expected sentiment: 1. Input: i certainly wont exclude that i might have some time over easter i will put it on my list \n",
            "Expected sentiment: 0. Input: i did that but with a woolly jumper and when i wore it i just looked like a tiny hamster \n",
            "Expected sentiment: 1. Input: ready to get my saturday going ... even though i feel so lazy think im taking mom to home depot then maybe habana then fight party ... \n",
            "Expected sentiment: 1. Input: going to make a day in columbus ... zoo malls and possibly bars \n",
            "Expected sentiment: 0. Input: had such a good time last night even though i do have a huge cut on my foot from some woman treading on me and scraping her heel down it \n",
            "Expected sentiment: 0. Input: ah sooo swet i miss that age ... sooo much \n",
            "Expected sentiment: 1. Input: or else yo unk have to become a dirty hippy and quit work and live in the woods \n",
            "Expected sentiment: 1. Input: havent read it but i have a godson with a 6th birthday this week hmm \n",
            "Expected sentiment: 0. Input: having sandwiches nearly every day really does suck so we tend to go out on friday lunch breaks to relax in the pub :p \n",
            "Expected sentiment: 0. Input: have an exam tomorrow have i studied at all no fail have a response and a thesis due tomorrow have i done the reading no fail \n",
            "Expected sentiment: 0. Input: hi claudia i think ur fab on hells kitchen marco scares the hell out of me haha hope ur good x \n",
            "Expected sentiment: 0. Input: even if i want to \n",
            "Expected sentiment: 1. Input: someone was in my apartment while i was at yg last night nothing missing but i was am a little shaken up tired today \n",
            "Expected sentiment: 1. Input: i dont go back to school for another week \n",
            "Expected sentiment: 1. Input: off to work it is only a half-day \n",
            "Expected sentiment: 0. Input: not excited at all about working 10-8 30 walgreens today but on a better note after working i am going to my unk wedding \n",
            "Expected sentiment: 1. Input: haha unk oh well i need someone to spaz at unk spaz sometimes and other times it is really annoying \n",
            "Expected sentiment: 1. Input: if i would have known that the blue pages were going to see wolverine i would have stayed another day \n",
            "Expected sentiment: 0. Input: ok im goin to bed i will txt yu first thing \n",
            "Expected sentiment: 0. Input: open a window \n",
            "Expected sentiment: 1. Input: radiohead n unk ¿ ½ ine k raï ¿ ½ unk ¿ ½ m yok yok unk unk ¿ ½ zel ark unk lar \n",
            "Expected sentiment: 0. Input: cant belive this is my last ever post on twitter i love you all in my own special way xxx \n",
            "Expected sentiment: 0. Input: ok it is after 1:30 a m ... im going to try to go to sleep again maybe it will work this time 5:30 am here i come \n",
            "Expected sentiment: 0. Input: unk slept through church im so unk in myself \n",
            "Expected sentiment: 1. Input: wow congrats spin classes look far too much like hard work \n",
            "Expected sentiment: 0. Input: phone playing up \n",
            "Expected sentiment: 0. Input: ok my home town ... no good to me now that im living in unk though thanks anyway \n",
            "Expected sentiment: 1. Input: ah ... sold yet another unk machine we are not making money on that but we also sold the project for the software \n",
            "Expected sentiment: 0. Input: happy mothers day despite the clouds and rain \n",
            "Expected sentiment: 0. Input: bar tartine does some exotic infusions for some of their desserts wish i were there \n",
            "Expected sentiment: 0. Input: hi nice guy on 2 legs yes i have a fantastic morning couldnt sleep the whole night so im still awake haha \n",
            "Expected sentiment: 0. Input: had a dream last night i was on daisy of love and i was the 6 person kicked of \n",
            "Expected sentiment: 0. Input: what a saturday night unk \n",
            "Expected sentiment: 1. Input: haha sorry but i will never stop loving my iphone \n",
            "Expected sentiment: 1. Input: yea i understand i wanna wait a bit but if it happens it happens but i would like to be young for a few more years \n",
            "Expected sentiment: 0. Input: where all i can find are free trials \n"
          ],
          "name": "stdout"
        }
      ]
    }
  ]
}